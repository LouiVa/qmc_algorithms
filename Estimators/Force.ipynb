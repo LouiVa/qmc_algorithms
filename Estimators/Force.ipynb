{
 "cells": [
  {
   "cell_type": "code",
   "execution_count": 1,
   "metadata": {
    "collapsed": true
   },
   "outputs": [],
   "source": [
    "from sympy import *\n",
    "init_printing()\n",
    "import numpy as np\n",
    "from collections import OrderedDict\n",
    "import matplotlib.pyplot as plt\n",
    "%matplotlib inline"
   ]
  },
  {
   "cell_type": "markdown",
   "metadata": {},
   "source": [
    "The variance of the bare force diverges in the Monte Carlo integral."
   ]
  },
  {
   "cell_type": "code",
   "execution_count": 2,
   "metadata": {
    "collapsed": true
   },
   "outputs": [],
   "source": [
    "r = Symbol('r',positive=True)\n",
    "V = 1/r\n",
    "F = - diff(V, r)"
   ]
  },
  {
   "cell_type": "code",
   "execution_count": 3,
   "metadata": {
    "collapsed": false
   },
   "outputs": [
    {
     "data": {
      "image/png": "[encoded data removed]",
      "text/latex": [
       "$$\\frac{1}{r^{2}}$$"
      ],
      "text/plain": [
       "1 \n",
       "──\n",
       " 2\n",
       "r "
      ]
     },
     "execution_count": 3,
     "metadata": {},
     "output_type": "execute_result"
    }
   ],
   "source": [
    "F"
   ]
  },
  {
   "cell_type": "code",
   "execution_count": 35,
   "metadata": {
    "collapsed": true
   },
   "outputs": [],
   "source": [
    "epos = np.array([[0.0, 1.0, 0.0],\n",
    "                 [0.2, 0.3, 0.0]])\n",
    "npos = np.array([[0.0, 0.0, .0]])"
   ]
  },
  {
   "cell_type": "code",
   "execution_count": 36,
   "metadata": {
    "collapsed": false
   },
   "outputs": [],
   "source": [
    "def compute_bare_force(npos, epos, F, r):\n",
    "    forces = np.zeros_like(npos)\n",
    "    for ion_idx,ion_pos in enumerate(npos):   \n",
    "        for elec in epos:\n",
    "            dr = elec - ion_pos\n",
    "            dr2 = np.dot(dr,dr)\n",
    "            dr_norm = np.sqrt(dr2)\n",
    "            #print dr_norm\n",
    "            dr_hat = dr/dr_norm\n",
    "            force_component = float(F.subs(r, dr_norm))\n",
    "            #print dr_norm, 1.0/dr_norm, force_component\n",
    "            forces[ion_idx] += force_component*dr_hat\n",
    "            #print ''\n",
    "    return forces"
   ]
  },
  {
   "cell_type": "code",
   "execution_count": 37,
   "metadata": {
    "collapsed": false
   },
   "outputs": [
    {
     "name": "stdout",
     "output_type": "stream",
     "text": [
      "[[ 4.26692459  7.40038688  0.        ]]\n"
     ]
    }
   ],
   "source": [
    "forces = compute_bare_force(npos, epos, F, r)\n",
    "print forces"
   ]
  },
  {
   "cell_type": "markdown",
   "metadata": {
    "collapsed": true
   },
   "source": [
    "One solution is to smooth the contribution inside some cutoff radius $R_c$.\n",
    "See Chiesa, Ceperley, and Zhang (PRL 94, 036404 (2005))"
   ]
  },
  {
   "cell_type": "code",
   "execution_count": 8,
   "metadata": {
    "collapsed": false
   },
   "outputs": [],
   "source": [
    "M = Symbol('M', integer=True)\n",
    "k = Symbol('k', integer=True,positive=True)\n",
    "a = IndexedBase('a',(M,))\n",
    "Rc = Symbol('R_c', positive=True)"
   ]
  },
  {
   "cell_type": "markdown",
   "metadata": {},
   "source": [
    "The goal is to fit a constant function with a polynomial that is missing the constant term (only powers of $r$ with $k\\gt 0$)"
   ]
  },
  {
   "cell_type": "code",
   "execution_count": 9,
   "metadata": {
    "collapsed": false
   },
   "outputs": [
    {
     "data": {
      "image/png": "[encoded data removed]",
      "text/latex": [
       "$$\\sum_{k=1}^{M} r^{k} a_{k}$$"
      ],
      "text/plain": [
       "  M          \n",
       " ___         \n",
       " ╲           \n",
       "  ╲    k     \n",
       "  ╱   r ⋅a[k]\n",
       " ╱           \n",
       " ‾‾‾         \n",
       "k = 1        "
      ]
     },
     "execution_count": 9,
     "metadata": {},
     "output_type": "execute_result"
    }
   ],
   "source": [
    "# Equation 4 in the paper\n",
    "fbar = Sum(a[k]*r**k, (k,1,M))\n",
    "fbar"
   ]
  },
  {
   "cell_type": "code",
   "execution_count": 46,
   "metadata": {
    "collapsed": false
   },
   "outputs": [
    {
     "data": {
      "image/png": "[encoded data removed]",
      "text/latex": [
       "$$\\frac{R_{c}^{k + 1}}{k + 1}$$"
      ],
      "text/plain": [
       "   k + 1\n",
       "R_c     \n",
       "────────\n",
       " k + 1  "
      ]
     },
     "execution_count": 46,
     "metadata": {},
     "output_type": "execute_result"
    }
   ],
   "source": [
    "# Integrate individual terms\n",
    "integrate(r**k,(r,0,Rc)).doit()"
   ]
  },
  {
   "cell_type": "code",
   "execution_count": 47,
   "metadata": {
    "collapsed": true
   },
   "outputs": [],
   "source": [
    "# Still need to get to equations 6-8 from equations 2-4"
   ]
  },
  {
   "cell_type": "code",
   "execution_count": 11,
   "metadata": {
    "collapsed": true
   },
   "outputs": [],
   "source": [
    "m = Symbol('m')\n",
    "c = IndexedBase('c',(M,))\n",
    "j = Symbol('j',integer=True)"
   ]
  },
  {
   "cell_type": "markdown",
   "metadata": {},
   "source": [
    "Matrix and vector that define the coefficients, equation 8 in the paper:"
   ]
  },
  {
   "cell_type": "code",
   "execution_count": 44,
   "metadata": {
    "collapsed": false
   },
   "outputs": [
    {
     "data": {
      "image/png": "[encoded data removed]",
      "text/latex": [
       "$$\\frac{R_{c}^{j + 1}}{j + 1}$$"
      ],
      "text/plain": [
       "   j + 1\n",
       "R_c     \n",
       "────────\n",
       " j + 1  "
      ]
     },
     "execution_count": 44,
     "metadata": {},
     "output_type": "execute_result"
    }
   ],
   "source": [
    "Skj = Rc**(m+k+j+1)/(m+k+j+1)\n",
    "hj = Rc**(j+1)/(j+1)\n",
    "hj"
   ]
  },
  {
   "cell_type": "code",
   "execution_count": 13,
   "metadata": {
    "collapsed": true
   },
   "outputs": [],
   "source": [
    "grfits = OrderedDict()"
   ]
  },
  {
   "cell_type": "code",
   "execution_count": 14,
   "metadata": {
    "collapsed": false
   },
   "outputs": [
    {
     "name": "stdout",
     "output_type": "stream",
     "text": [
      "[[  2.04800000e-03   6.82666667e-04   2.34057143e-04   8.19200000e-05]\n",
      " [  6.82666667e-04   2.34057143e-04   8.19200000e-05   2.91271111e-05]\n",
      " [  2.34057143e-04   8.19200000e-05   2.91271111e-05   1.04857600e-05]\n",
      " [  8.19200000e-05   2.91271111e-05   1.04857600e-05   3.81300364e-06]]\n",
      "[ 0.08        0.02133333  0.0064      0.002048  ]\n"
     ]
    }
   ],
   "source": [
    "Mval = 4\n",
    "mval = 2\n",
    "S = np.zeros((Mval,Mval))\n",
    "h = np.zeros(Mval)\n",
    "Rcval = 0.4\n",
    "for kval in range(Mval):\n",
    "    for jval in range(Mval):\n",
    "        S[kval,jval] = Skj.subs({M:Mval,m:mval,k:kval+1,j:jval+1,Rc:Rcval})\n",
    "for jval in range(Mval):\n",
    "    h[jval] = hj.subs({j:jval+1, Rc:Rcval})\n",
    "print S\n",
    "print h"
   ]
  },
  {
   "cell_type": "code",
   "execution_count": 15,
   "metadata": {
    "collapsed": false
   },
   "outputs": [
    {
     "data": {
      "text/plain": [
       "array([   4375.00000011,  -44296.87500127,  147656.25000466,\n",
       "       -161132.81250545])"
      ]
     },
     "execution_count": 15,
     "metadata": {},
     "output_type": "execute_result"
    }
   ],
   "source": [
    "ck = np.linalg.solve(S,h)\n",
    "ck"
   ]
  },
  {
   "cell_type": "code",
   "execution_count": 16,
   "metadata": {
    "collapsed": false
   },
   "outputs": [
    {
     "name": "stdout",
     "output_type": "stream",
     "text": [
      "// for m_exp=2, N_basis=4, Rcut=0.400000\n",
      "coeff[4] = { 4375,-44296.9,147656,-161133 };\n"
     ]
    }
   ],
   "source": [
    "# Dump in C++ format for inclusion in the unit test\n",
    "print '// for m_exp=%d, N_basis=%d, Rcut=%f'%(mval, Mval, Rcval)\n",
    "print 'coeff[%d] = {'%len(ck),\n",
    "print ','.join(['%g'%ck1 for ck1 in ck]),\n",
    "#for c in ck:\n",
    "#    print '%g,'%c,\n",
    "print '};'"
   ]
  },
  {
   "cell_type": "code",
   "execution_count": 17,
   "metadata": {
    "collapsed": false
   },
   "outputs": [
    {
     "data": {
      "text/plain": [
       "array([   4375.00000011,  -44296.87500127,  147656.25000465,\n",
       "       -161132.81250544])"
      ]
     },
     "execution_count": 17,
     "metadata": {},
     "output_type": "execute_result"
    }
   ],
   "source": [
    "np.dot(np.linalg.inv(S),h)"
   ]
  },
  {
   "cell_type": "code",
   "execution_count": 18,
   "metadata": {
    "collapsed": false
   },
   "outputs": [
    {
     "data": {
      "image/png": "[encoded data removed]",
      "text/latex": [
       "$$\\sum_{k=1}^{M} r^{k + m} c_{k}$$"
      ],
      "text/plain": [
       "  M              \n",
       " ___             \n",
       " ╲               \n",
       "  ╲    k + m     \n",
       "  ╱   r     ⋅c[k]\n",
       " ╱               \n",
       " ‾‾‾             \n",
       "k = 1            "
      ]
     },
     "execution_count": 18,
     "metadata": {},
     "output_type": "execute_result"
    }
   ],
   "source": [
    "gr = Sum(c[k]*r**(k+m),(k,1,M))\n",
    "gr"
   ]
  },
  {
   "cell_type": "code",
   "execution_count": null,
   "metadata": {
    "collapsed": true
   },
   "outputs": [],
   "source": []
  },
  {
   "cell_type": "code",
   "execution_count": 19,
   "metadata": {
    "collapsed": false
   },
   "outputs": [
    {
     "name": "stdout",
     "output_type": "stream",
     "text": [
      "gr2 =  r**6*c[4] + r**5*c[3] + r**4*c[2] + r**3*c[1]\n",
      "0 c[1] 4375.00000011\n",
      "0 r**6*c[4] + r**5*c[3] + r**4*c[2] + 4375.00000010899*r**3\n",
      "1 c[2] -44296.8750013\n",
      "1 r**6*c[4] + r**5*c[3] - 44296.8750012704*r**4 + 4375.00000010899*r**3\n",
      "2 c[3] 147656.250005\n",
      "2 r**6*c[4] + 147656.250004658*r**5 - 44296.8750012704*r**4 + 4375.00000010899*r**3\n",
      "3 c[4] -161132.812505\n",
      "3 -161132.812505447*r**6 + 147656.250004658*r**5 - 44296.8750012704*r**4 + 4375.00000010899*r**3\n"
     ]
    }
   ],
   "source": [
    "gr2 = gr.subs({M:Mval, m:mval}).doit()\n",
    "\n",
    "cc = c.subs(M,Mval)\n",
    "print 'gr2 = ',gr2\n",
    "for kval in range(Mval):\n",
    "    print kval, c[kval+1],ck[kval]\n",
    "    gr2 = gr2.subs(cc[kval+1],ck[kval])\n",
    "    print kval,gr2\n",
    "gr2\n",
    "grfits[Mval] = gr2"
   ]
  },
  {
   "cell_type": "code",
   "execution_count": 39,
   "metadata": {
    "collapsed": false
   },
   "outputs": [],
   "source": [
    "def compute_smoothed_force(npos, epos, F, r):\n",
    "    forces = np.zeros_like(npos)\n",
    "    for ion_idx,ion_pos in enumerate(npos):   \n",
    "        for elec in epos:\n",
    "            dr = elec - ion_pos\n",
    "            dr2 = np.dot(dr,dr)\n",
    "            dr_norm = np.sqrt(dr2)\n",
    "            #print dr_norm\n",
    "            dr_hat = dr/dr_norm\n",
    "            #print 'dr_norm',dr_norm\n",
    "            if dr_norm < Rcval:\n",
    "                force_component = float(gr2.subs(r, dr_norm)/dr2)\n",
    "            else:\n",
    "                force_component = float(F.subs(r, dr_norm))\n",
    "            #print dr_norm, 1.0/dr_norm, force_component\n",
    "            forces[ion_idx] += force_component*dr_hat\n",
    "            #print ''\n",
    "    return forces"
   ]
  },
  {
   "cell_type": "code",
   "execution_count": 40,
   "metadata": {
    "collapsed": false
   },
   "outputs": [
    {
     "name": "stdout",
     "output_type": "stream",
     "text": [
      "bare = [[ 4.26692459  7.40038688  0.        ]]\n",
      "smoothed = [[  9.24061106  14.86091659   0.        ]]\n"
     ]
    }
   ],
   "source": [
    "print 'bare =',compute_bare_force(npos, epos, F, r)\n",
    "forces = compute_smoothed_force(npos, epos, F, r)\n",
    "print 'smoothed =',forces"
   ]
  },
  {
   "cell_type": "code",
   "execution_count": 22,
   "metadata": {
    "collapsed": false
   },
   "outputs": [],
   "source": [
    "xss = OrderedDict()\n",
    "yss = OrderedDict()\n",
    "xs = []\n",
    "ys = []\n",
    "step = Rcval/50\n",
    "for i in range(50):\n",
    "    rval = i*step + step\n",
    "    xs.append(rval)\n",
    "    ys.append(exp(-rval**2))\n",
    "#xss[0] = xs\n",
    "#yss[0] = ys\n",
    "for Mval,gr2 in grfits.iteritems():\n",
    "    xs = []\n",
    "    ys = []\n",
    "    for i in range(50):\n",
    "        rval = i*step + step\n",
    "        #print rval, gr2.subs(r,rval)\n",
    "        xs.append(rval)\n",
    "        #ys.append(exp(-rval**2)*gr2.subs(r,rval))\n",
    "        ys.append(gr2.subs(r,rval))\n",
    "    xss[Mval] = xs\n",
    "    yss[Mval] = ys"
   ]
  },
  {
   "cell_type": "code",
   "execution_count": 23,
   "metadata": {
    "collapsed": false
   },
   "outputs": [
    {
     "data": {
      "image/png": "[encoded data removed]",
      "text/plain": [
       "<matplotlib.figure.Figure at 0x7fbbe7aa3f50>"
      ]
     },
     "metadata": {},
     "output_type": "display_data"
    }
   ],
   "source": [
    "\n",
    "for Mval in xss.keys()[0:1]:\n",
    "    plt.plot(xss[Mval],yss[Mval])\n",
    "plt.show()"
   ]
  },
  {
   "cell_type": "code",
   "execution_count": 24,
   "metadata": {
    "collapsed": false
   },
   "outputs": [
    {
     "name": "stdout",
     "output_type": "stream",
     "text": [
      "0 0.379652839700475\n",
      "4 0.365714285715105\n"
     ]
    }
   ],
   "source": [
    "fx = lambda rval: exp(-rval**2)\n",
    "print 0,mpmath.quad(fx, [0,Rcval])\n",
    "for Mval, gr2 in grfits.iteritems():\n",
    "    #fx = lambda rval : exp(-rval**2)*gr2.subs(r, rval)\n",
    "    fx = lambda rval : gr2.subs(r,rval)\n",
    "    ival = mpmath.quad(fx, [0,Rcval])\n",
    "    #ival = integrate(exp(-r**2)*gr2/r**2,(r,0,Rcval))\n",
    "    print Mval,ival"
   ]
  },
  {
   "cell_type": "code",
   "execution_count": null,
   "metadata": {
    "collapsed": false
   },
   "outputs": [],
   "source": []
  },
  {
   "cell_type": "code",
   "execution_count": null,
   "metadata": {
    "collapsed": true
   },
   "outputs": [],
   "source": []
  }
 ],
 "metadata": {
  "kernelspec": {
   "display_name": "Python 2",
   "language": "python",
   "name": "python2"
  },
  "language_info": {
   "codemirror_mode": {
    "name": "ipython",
    "version": 2
   },
   "file_extension": ".py",
   "mimetype": "text/x-python",
   "name": "python",
   "nbconvert_exporter": "python",
   "pygments_lexer": "ipython2",
   "version": "2.7.12"
  }
 },
 "nbformat": 4,
 "nbformat_minor": 0
}
