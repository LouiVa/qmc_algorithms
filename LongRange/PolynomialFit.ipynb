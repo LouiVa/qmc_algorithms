{
 "cells": [
  {
   "cell_type": "code",
   "execution_count": 1,
   "metadata": {
    "collapsed": true
   },
   "outputs": [],
   "source": [
    "from sympy import *\n",
    "init_printing()\n",
    "import numpy as np\n",
    "from collections import OrderedDict\n",
    "import matplotlib.pyplot as plt\n",
    "%matplotlib inline"
   ]
  },
  {
   "cell_type": "markdown",
   "metadata": {},
   "source": [
    "## Generic fit for approximating with a polynomial"
   ]
  },
  {
   "cell_type": "code",
   "execution_count": 2,
   "metadata": {
    "collapsed": false
   },
   "outputs": [
    {
     "data": {
      "image/png": "[encoded data removed]",
      "text/latex": [
       "$$\\left ( f, \\quad \\bar{f}, \\quad w, \\quad \\chi^{2}\\right )$$"
      ],
      "text/plain": [
       "(f, f̅, w, χ²)"
      ]
     },
     "execution_count": 2,
     "metadata": {},
     "output_type": "execute_result"
    }
   ],
   "source": [
    "f = Symbol('f')  # Function to approximate\n",
    "f_approx = Symbol('fbar')   # Approximating function\n",
    "w = Symbol('w') # weighting function\n",
    "chi2 = Symbol('chi^2')\n",
    "\n",
    "f, f_approx, w, chi2"
   ]
  },
  {
   "cell_type": "code",
   "execution_count": 12,
   "metadata": {
    "collapsed": false
   },
   "outputs": [
    {
     "data": {
      "image/png": "[encoded data removed]",
      "text/latex": [
       "$$\\sum_{k=0}^{M} a_{k} h_{k}$$"
      ],
      "text/plain": [
       "  M            \n",
       " ___           \n",
       " ╲             \n",
       "  ╲   a[k]⋅h[k]\n",
       "  ╱            \n",
       " ╱             \n",
       " ‾‾‾           \n",
       "False          "
      ]
     },
     "execution_count": 12,
     "metadata": {},
     "output_type": "execute_result"
    }
   ],
   "source": [
    "M = Symbol('M', integer=True)\n",
    "k = Symbol('k', integer=True,positive=True)\n",
    "a = IndexedBase('a',(M,))  # coefficient\n",
    "h = IndexedBase('h',(M,))  # basis function\n",
    "ak = Symbol('a_k')  # Temporary symbols to make some derivatives easier\n",
    "hk = Symbol('h_k')  #    Basis function (function of r)\n",
    "hj = Symbol('h_j')\n",
    "r = Symbol('r',positive=True)\n",
    "j = Symbol('j',integer=True)\n",
    "poly_approx = Sum(a[k]*h[k],(k,0,M))\n",
    "poly_approx_j = Sum(a[j]*h[j],(j,0,M)) # replace summation variable\n",
    "poly_approx"
   ]
  },
  {
   "cell_type": "markdown",
   "metadata": {},
   "source": [
    "Define a quality-of-fit measure, $\\chi^2$"
   ]
  },
  {
   "cell_type": "code",
   "execution_count": 4,
   "metadata": {
    "collapsed": false
   },
   "outputs": [
    {
     "data": {
      "image/png": "[encoded data removed]",
      "text/latex": [
       "$$\\chi^{2} = \\int \\left(f{\\left (r \\right )} - \\bar{f}{\\left (r,a_{k} \\right )}\\right)^{2} w{\\left (r \\right )}\\, dr$$"
      ],
      "text/plain": [
       "     ⌠                             \n",
       "     ⎮                    2        \n",
       "χ² = ⎮ (f(r) - f̅(r, a_k)) ⋅w(r) dr\n",
       "     ⌡                             "
      ]
     },
     "execution_count": 4,
     "metadata": {},
     "output_type": "execute_result"
    }
   ],
   "source": [
    "eq1 = Eq(chi2, Integral(w(r)*(f(r)-f_approx(r,ak))**2,r))\n",
    "eq1"
   ]
  },
  {
   "cell_type": "markdown",
   "metadata": {},
   "source": [
    "We want to minimized $\\chi^2$. Take derivative wrt the coefficients ($a_k$) and set to zero.  Will get $k$ equations."
   ]
  },
  {
   "cell_type": "code",
   "execution_count": 5,
   "metadata": {
    "collapsed": false
   },
   "outputs": [
    {
     "data": {
      "image/png": "[encoded data removed]",
      "text/latex": [
       "$$0 = \\int - 2 \\left(f{\\left (r \\right )} - \\bar{f}{\\left (r,a_{k} \\right )}\\right) w{\\left (r \\right )} \\frac{\\partial}{\\partial a_{k}} \\bar{f}{\\left (r,a_{k} \\right )}\\, dr$$"
      ],
      "text/plain": [
       "    ⌠                                                \n",
       "    ⎮                              ∂                 \n",
       "0 = ⎮ -2⋅(f(r) - f̅(r, a_k))⋅w(r)⋅────(f̅(r, a_k)) dr\n",
       "    ⎮                             ∂a_k               \n",
       "    ⌡                                                "
      ]
     },
     "execution_count": 5,
     "metadata": {},
     "output_type": "execute_result"
    }
   ],
   "source": [
    "eq2 = Eq(0,diff(eq1.rhs, ak))\n",
    "eq2"
   ]
  },
  {
   "cell_type": "code",
   "execution_count": 6,
   "metadata": {
    "collapsed": false
   },
   "outputs": [
    {
     "data": {
      "image/png": "[encoded data removed]",
      "text/latex": [
       "$$\\frac{\\partial}{\\partial a_{k}} \\sum_{k=0}^{M} a_{k} h_{k} = h_{k}$$"
      ],
      "text/plain": [
       "    ⎛  M            ⎞      \n",
       "    ⎜ ___           ⎟      \n",
       "    ⎜ ╲             ⎟      \n",
       " ∂  ⎜  ╲   a[k]⋅h[k]⎟      \n",
       "────⎜  ╱            ⎟ = h_k\n",
       "∂a_k⎜ ╱             ⎟      \n",
       "    ⎜ ‾‾‾           ⎟      \n",
       "    ⎝False          ⎠      "
      ]
     },
     "execution_count": 6,
     "metadata": {},
     "output_type": "execute_result"
    }
   ],
   "source": [
    "eq3 = Eq(diff(poly_approx,ak,evaluate=False), hk)\n",
    "eq3"
   ]
  },
  {
   "cell_type": "code",
   "execution_count": 7,
   "metadata": {
    "collapsed": false
   },
   "outputs": [
    {
     "data": {
      "image/png": "[encoded data removed]",
      "text/latex": [
       "$$0 = \\int - 2 \\left(f{\\left (r \\right )} - \\bar{f}{\\left (r,a_{k} \\right )}\\right) \\operatorname{h_{k}}{\\left (r \\right )} w{\\left (r \\right )}\\, dr$$"
      ],
      "text/plain": [
       "    ⌠                                      \n",
       "0 = ⎮ -2⋅(f(r) - f̅(r, a_k))⋅h_k(r)⋅w(r) dr\n",
       "    ⌡                                      "
      ]
     },
     "execution_count": 7,
     "metadata": {},
     "output_type": "execute_result"
    }
   ],
   "source": [
    "eq4 = Eq(0, Integral(eq2.rhs.args[0].subs(diff(f_approx(r,ak),ak),hk(r)),r))\n",
    "eq4"
   ]
  },
  {
   "cell_type": "code",
   "execution_count": 8,
   "metadata": {
    "collapsed": false
   },
   "outputs": [
    {
     "data": {
      "image/png": "[encoded data removed]",
      "text/latex": [
       "$$0 = \\int - 2 \\left(f{\\left (r \\right )} - \\sum_{j=0}^{M} a_{j} h_{j}\\right) \\operatorname{h_{k}}{\\left (r \\right )} w{\\left (r \\right )}\\, dr$$"
      ],
      "text/plain": [
       "    ⌠                                           \n",
       "    ⎮    ⎛         M            ⎞               \n",
       "    ⎮    ⎜        ___           ⎟               \n",
       "    ⎮    ⎜        ╲             ⎟               \n",
       "    ⎮    ⎜         ╲   a[j]⋅h[j]⎟               \n",
       "0 = ⎮ -2⋅⎜f(r) -   ╱            ⎟⋅h_k(r)⋅w(r) dr\n",
       "    ⎮    ⎜        ╱             ⎟               \n",
       "    ⎮    ⎜        ‾‾‾           ⎟               \n",
       "    ⎮    ⎝       j = 0          ⎠               \n",
       "    ⌡                                           "
      ]
     },
     "execution_count": 8,
     "metadata": {},
     "output_type": "execute_result"
    }
   ],
   "source": [
    "eq5 = Eq(0, Integral(eq4.rhs.args[0].subs(f_approx(r,ak), poly_approx_j),r))\n",
    "eq5"
   ]
  },
  {
   "cell_type": "code",
   "execution_count": 9,
   "metadata": {
    "collapsed": false
   },
   "outputs": [
    {
     "data": {
      "image/png": "[encoded data removed]",
      "text/latex": [
       "$$0 = \\int \\left(f{\\left (r \\right )} - \\sum_{j=0}^{M} a_{j} h_{j}\\right) \\operatorname{h_{k}}{\\left (r \\right )} w{\\left (r \\right )}\\, dr$$"
      ],
      "text/plain": [
       "    ⌠                                        \n",
       "    ⎮ ⎛         M            ⎞               \n",
       "    ⎮ ⎜        ___           ⎟               \n",
       "    ⎮ ⎜        ╲             ⎟               \n",
       "    ⎮ ⎜         ╲   a[j]⋅h[j]⎟               \n",
       "0 = ⎮ ⎜f(r) -   ╱            ⎟⋅h_k(r)⋅w(r) dr\n",
       "    ⎮ ⎜        ╱             ⎟               \n",
       "    ⎮ ⎜        ‾‾‾           ⎟               \n",
       "    ⎮ ⎝       j = 0          ⎠               \n",
       "    ⌡                                        "
      ]
     },
     "execution_count": 9,
     "metadata": {},
     "output_type": "execute_result"
    }
   ],
   "source": [
    "eq6 = Eq(0, Integral(-eq5.rhs.args[0]/2,r))\n",
    "eq6"
   ]
  },
  {
   "cell_type": "code",
   "execution_count": 10,
   "metadata": {
    "collapsed": false
   },
   "outputs": [
    {
     "data": {
      "image/png": "[encoded data removed]",
      "text/latex": [
       "$$\\int \\operatorname{h_{k}}{\\left (r \\right )} w{\\left (r \\right )} \\sum_{j=0}^{M} a_{j} h_{j}\\, dr = \\int f{\\left (r \\right )} \\operatorname{h_{k}}{\\left (r \\right )} w{\\left (r \\right )}\\, dr$$"
      ],
      "text/plain": [
       "⌠                                                       \n",
       "⎮               M                                       \n",
       "⎮              ___                                      \n",
       "⎮              ╲                                        \n",
       "⎮               ╲   a[j]⋅h[j]      ⌠                    \n",
       "⎮ h_k(r)⋅w(r)⋅  ╱             dr = ⎮ f(r)⋅h_k(r)⋅w(r) dr\n",
       "⎮              ╱                   ⌡                    \n",
       "⎮              ‾‾‾                                      \n",
       "⎮             j = 0                                     \n",
       "⌡                                                       "
      ]
     },
     "execution_count": 10,
     "metadata": {},
     "output_type": "execute_result"
    }
   ],
   "source": [
    "base7 = expand(eq6.rhs.args[0])\n",
    "eq7 = Eq(Integral(-base7.args[1],r),Integral(base7.args[0],r))\n",
    "eq7"
   ]
  },
  {
   "cell_type": "code",
   "execution_count": 11,
   "metadata": {
    "collapsed": false
   },
   "outputs": [
    {
     "data": {
      "image/png": "[encoded data removed]",
      "text/latex": [
       "$$\\sum_{j=0}^{M} a_{j} \\int \\operatorname{h_{k}}{\\left (r \\right )} w{\\left (r \\right )}\\, dr = \\int f{\\left (r \\right )} \\operatorname{h_{k}}{\\left (r \\right )} w{\\left (r \\right )}\\, dr$$"
      ],
      "text/plain": [
       "  M                                                \n",
       " ____                                              \n",
       " ╲                                                 \n",
       "  ╲        ⌠                                       \n",
       "   ╲  a[j]⋅⎮ h_k(r)⋅w(r) dr   ⌠                    \n",
       "   ╱       ⌡                = ⎮ f(r)⋅h_k(r)⋅w(r) dr\n",
       "  ╱                           ⌡                    \n",
       " ╱                                                 \n",
       " ‾‾‾‾                                              \n",
       "j = 0                                              "
      ]
     },
     "execution_count": 11,
     "metadata": {},
     "output_type": "execute_result"
    }
   ],
   "source": [
    "int7 = eq7.lhs.args[0]\n",
    "eq8 = Eq(Sum(a[j]*Integral(Mul(*int7.args[1:]),r),(j,0,M)), eq7.rhs)\n",
    "eq8"
   ]
  },
  {
   "cell_type": "markdown",
   "metadata": {},
   "source": [
    "Finally, we get a linear system - the lhs is a matrix times a vector of coefficients and the rhs is a vector of values."
   ]
  },
  {
   "cell_type": "code",
   "execution_count": null,
   "metadata": {
    "collapsed": true
   },
   "outputs": [],
   "source": []
  }
 ],
 "metadata": {
  "kernelspec": {
   "display_name": "Python 2",
   "language": "python",
   "name": "python2"
  },
  "language_info": {
   "codemirror_mode": {
    "name": "ipython",
    "version": 2
   },
   "file_extension": ".py",
   "mimetype": "text/x-python",
   "name": "python",
   "nbconvert_exporter": "python",
   "pygments_lexer": "ipython2",
   "version": "2.7.12"
  }
 },
 "nbformat": 4,
 "nbformat_minor": 0
}
