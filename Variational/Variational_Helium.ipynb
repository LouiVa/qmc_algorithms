{
 "cells": [
  {
   "cell_type": "code",
   "execution_count": 19,
   "metadata": {
    "collapsed": false
   },
   "outputs": [],
   "source": [
    "from sympy import *\n",
    "from sympy.abc import r,x,y,z\n",
    "from sympy import init_printing\n",
    "from cubature import cubature\n",
    "import sympy.printing.llvmjitcode as jit\n",
    "from timeit import default_timer as timer\n",
    "import matplotlib.pyplot as plt\n",
    "%matplotlib inline\n",
    "init_printing()"
   ]
  },
  {
   "cell_type": "markdown",
   "metadata": {},
   "source": [
    "# Energy of a Helium atom\n",
    "\n",
    "The Hamiltonian for this system is\n",
    "$$-\\frac{1}{2} (\\nabla_1^2 + \\nabla_2^2) - \\frac{2}{r_1} - \\frac{2}{r_2} + \\frac{1}{r_{12}}$$\n",
    "\n",
    "The first two terms are the kinetic energy, the next two are the electron-nuclear Coulomb interaction, and the final term is the electron-electron Coulomb interaction.\n"
   ]
  },
  {
   "cell_type": "code",
   "execution_count": 21,
   "metadata": {
    "collapsed": true
   },
   "outputs": [],
   "source": [
    "r1 = Symbol('r1')    # magnitude of vector r1 (electron 1 to nucleus distance)\n",
    "r2 = Symbol('r2')    # magnitude of vector r2 (electron 2 to nucleus distance)\n",
    "r12 = Symbol('r12') # |r2-r1| (magnitude of vector r2-r1)\n"
   ]
  },
  {
   "cell_type": "markdown",
   "metadata": {},
   "source": [
    "### Simple trial wavefunction\n",
    "\n",
    "This trial wavefunction uses a Slater form for the electon-nuclear interactions.  The value in the exponent (-2) is fixed by the cusp condition.   The electron-electron interaction uses a simple Pade form.   There is one adjustable parameter, $\\beta$.   The integration occurs over the spatial coordinates of each electron, giving a 6 dimensional integral.\n",
    "\n",
    "In the QMCPACK distribution, the example input file in `examples/molecules/He/simple_he.xml` has the same wavefunction."
   ]
  },
  {
   "cell_type": "code",
   "execution_count": 22,
   "metadata": {
    "collapsed": false
   },
   "outputs": [
    {
     "data": {
      "image/png": "[encoded data removed]",
      "text/latex": [
       "$$e^{- 2 r_{1}} e^{- 2 r_{2}} e^{\\frac{r_{12}}{2 \\beta r_{12} + 2}}$$"
      ],
      "text/plain": [
       "                    r₁₂     \n",
       "               ─────────────\n",
       " -2⋅r₁  -2⋅r₂  2⋅(β⋅r₁₂ + 1)\n",
       "ℯ     ⋅ℯ     ⋅ℯ             "
      ]
     },
     "execution_count": 22,
     "metadata": {},
     "output_type": "execute_result"
    }
   ],
   "source": [
    "beta = Symbol('beta')\n",
    "R1 = exp(-2*r1)\n",
    "R2 = exp(-2*r2)\n",
    "G = exp(r12/2/(1 + beta*r12))\n",
    "R1*R2*G"
   ]
  },
  {
   "cell_type": "code",
   "execution_count": 23,
   "metadata": {
    "collapsed": true
   },
   "outputs": [],
   "source": [
    "def del_spherical(e, r):\n",
    "    \"\"\"Compute Laplacian for expression e with respect to symbol r.\n",
    "        Currently works only with radial dependence\"\"\"\n",
    "    t1 = r*r*diff(e, r)\n",
    "    t2 = diff(t1, r)/(r*r)\n",
    "    return simplify(t2)\n",
    "\n",
    "def grad_spherical(e, r, rhat):\n",
    "    \"\"\"Compute gradient for expresion e with respect to symbol r.\n",
    "       The symbol rhat is the unit vector in the radial direction.\"\"\"\n",
    "    t1 = diff(e, r)\n",
    "    t2 = simplify(t1)\n",
    "    return t2*rhat\n",
    "\n"
   ]
  },
  {
   "cell_type": "code",
   "execution_count": 24,
   "metadata": {
    "collapsed": true
   },
   "outputs": [],
   "source": [
    "# Wavefunction has the form F1 * F2 * G\n",
    "# grad (FG) = G grad(F) + F grad(G)\n",
    "\n",
    "def grad_combo(F, gradF, G, gradG):\n",
    "    t = F*gradG + G*gradF\n",
    "    return simplify(t)\n",
    "\n",
    "# del^2 (FG) = G del^2(F0 + F del^2(G) + 2 grad(F) * grad(G)\n",
    "def del_combo(F, gradF, delsqF, G, gradG, delsqG):\n",
    "    t = G * delsqF + F * delsqG + 2*gradF*gradG\n",
    "    t2 = t.subs(rhat1*rhat1, 1)\n",
    "    t3 = t2.subs(rhat2*rhat2, 1)\n",
    "    t4 = t3.subs(rhat12*rhat12, 1)\n",
    "    t5 = t4.subs(rhat1*rhat12, rhat1_12)\n",
    "    t6 = t5.subs(rhat2*rhat12, rhat2_12)\n",
    "    return simplify(t6)\n"
   ]
  },
  {
   "cell_type": "code",
   "execution_count": 25,
   "metadata": {
    "collapsed": true
   },
   "outputs": [],
   "source": [
    "# Unit vectors\n",
    "rhat1 = Symbol('rhat1')\n",
    "rhat2 = Symbol('rhat2')\n",
    "rhat12 = Symbol('rhat12')\n",
    "rhat1_12 = Symbol('rhat1_12')\n",
    "rhat2_12 = Symbol('rhat2_12')"
   ]
  },
  {
   "cell_type": "code",
   "execution_count": 26,
   "metadata": {
    "collapsed": false
   },
   "outputs": [
    {
     "data": {
      "image/png": "[encoded data removed]",
      "text/latex": [
       "$$\\frac{e^{- 18 r_{1} - 18 r_{2} + \\frac{1}{\\beta r_{12} + 1} \\left(14 r_{1} \\left(\\beta r_{12} + 1\\right) + r_{12} + 14 r_{2} \\left(\\beta r_{12} + 1\\right)\\right)}}{8 r_{1} r_{12} r_{2} \\left(\\beta r_{12} + 1\\right)^{2} \\left(\\beta^{4} r_{12}^{4} + 4 \\beta^{3} r_{12}^{3} + 6 \\beta^{2} r_{12}^{2} + 4 \\beta r_{12} + 1\\right)} \\left(- 16 r_{1} r_{12} \\left(\\beta r_{12} + 1\\right)^{2} \\left(\\beta^{4} r_{12}^{4} + 4 \\beta^{3} r_{12}^{3} + 6 \\beta^{2} r_{12}^{2} + 4 \\beta r_{12} + 1\\right) + 8 r_{1} r_{2} \\left(\\beta r_{12} + 1\\right)^{2} \\left(\\beta^{4} r_{12}^{4} + 4 \\beta^{3} r_{12}^{3} + 6 \\beta^{2} r_{12}^{2} + 4 \\beta r_{12} + 1\\right) - r_{1} \\left(- 8 r_{12} r_{2} \\hat{r}_{2 12} \\left(\\beta^{4} r_{12}^{4} + 4 \\beta^{3} r_{12}^{3} + 6 \\beta^{2} r_{12}^{2} + 4 \\beta r_{12} + 1\\right) + 16 r_{12} \\left(r_{2} - 1\\right) \\left(\\beta r_{12} + 1\\right)^{2} \\left(\\beta^{4} r_{12}^{4} + 4 \\beta^{3} r_{12}^{3} + 6 \\beta^{2} r_{12}^{2} + 4 \\beta r_{12} + 1\\right) + r_{2} \\left(\\beta r_{12} + 1\\right)^{2} \\left(4 \\beta r_{12} + r_{12} + 4\\right)\\right) - 16 r_{12} r_{2} \\left(\\beta r_{12} + 1\\right)^{2} \\left(\\beta^{4} r_{12}^{4} + 4 \\beta^{3} r_{12}^{3} + 6 \\beta^{2} r_{12}^{2} + 4 \\beta r_{12} + 1\\right) - r_{2} \\left(8 r_{1} r_{12} \\hat{r}_{1 12} \\left(\\beta^{4} r_{12}^{4} + 4 \\beta^{3} r_{12}^{3} + 6 \\beta^{2} r_{12}^{2} + 4 \\beta r_{12} + 1\\right) + r_{1} \\left(\\beta r_{12} + 1\\right)^{2} \\left(4 \\beta r_{12} + r_{12} + 4\\right) + 16 r_{12} \\left(r_{1} - 1\\right) \\left(\\beta r_{12} + 1\\right)^{2} \\left(\\beta^{4} r_{12}^{4} + 4 \\beta^{3} r_{12}^{3} + 6 \\beta^{2} r_{12}^{2} + 4 \\beta r_{12} + 1\\right)\\right)\\right)$$"
      ],
      "text/plain": [
       "                                                                              \n",
       "                                                                              \n",
       "⎛                       2 ⎛ 4    4      3    3      2    2              ⎞     \n",
       "⎝- 16⋅r₁⋅r₁₂⋅(β⋅r₁₂ + 1) ⋅⎝β ⋅r₁₂  + 4⋅β ⋅r₁₂  + 6⋅β ⋅r₁₂  + 4⋅β⋅r₁₂ + 1⎠ + 8⋅\n",
       "──────────────────────────────────────────────────────────────────────────────\n",
       "                                                                              \n",
       "                                                                              \n",
       "\n",
       "                                                                              \n",
       "                                                                              \n",
       "                 2 ⎛ 4    4      3    3      2    2              ⎞      ⎛     \n",
       "r₁⋅r₂⋅(β⋅r₁₂ + 1) ⋅⎝β ⋅r₁₂  + 4⋅β ⋅r₁₂  + 6⋅β ⋅r₁₂  + 4⋅β⋅r₁₂ + 1⎠ - r₁⋅⎝- 8⋅r\n",
       "──────────────────────────────────────────────────────────────────────────────\n",
       "                                                                              \n",
       "                                                                              \n",
       "\n",
       "                                                                              \n",
       "                                                                              \n",
       "             ⎛ 4    4      3    3      2    2              ⎞                  \n",
       "₁₂⋅r₂⋅r̂₂ ₁₂⋅⎝β ⋅r₁₂  + 4⋅β ⋅r₁₂  + 6⋅β ⋅r₁₂  + 4⋅β⋅r₁₂ + 1⎠ + 16⋅r₁₂⋅(r₂ - 1)\n",
       "──────────────────────────────────────────────────────────────────────────────\n",
       "                                                                              \n",
       "                                                                              \n",
       "\n",
       "                                                                              \n",
       "                                                                              \n",
       "            2 ⎛ 4    4      3    3      2    2              ⎞                 \n",
       "⋅(β⋅r₁₂ + 1) ⋅⎝β ⋅r₁₂  + 4⋅β ⋅r₁₂  + 6⋅β ⋅r₁₂  + 4⋅β⋅r₁₂ + 1⎠ + r₂⋅(β⋅r₁₂ + 1)\n",
       "──────────────────────────────────────────────────────────────────────────────\n",
       "                                                                              \n",
       "                                                           8⋅r₁⋅r₁₂⋅r₂⋅(β⋅r₁₂ \n",
       "\n",
       "                                                                              \n",
       "                                                                              \n",
       "2                    ⎞                        2 ⎛ 4    4      3    3      2   \n",
       " ⋅(4⋅β⋅r₁₂ + r₁₂ + 4)⎠ - 16⋅r₁₂⋅r₂⋅(β⋅r₁₂ + 1) ⋅⎝β ⋅r₁₂  + 4⋅β ⋅r₁₂  + 6⋅β ⋅r₁\n",
       "──────────────────────────────────────────────────────────────────────────────\n",
       "    2 ⎛ 4    4      3    3      2    2              ⎞                         \n",
       "+ 1) ⋅⎝β ⋅r₁₂  + 4⋅β ⋅r₁₂  + 6⋅β ⋅r₁₂  + 4⋅β⋅r₁₂ + 1⎠                         \n",
       "\n",
       "                                                                              \n",
       "                                                                              \n",
       " 2              ⎞      ⎛                ⎛ 4    4      3    3      2    2      \n",
       "₂  + 4⋅β⋅r₁₂ + 1⎠ - r₂⋅⎝8⋅r₁⋅r₁₂⋅r̂₁ ₁₂⋅⎝β ⋅r₁₂  + 4⋅β ⋅r₁₂  + 6⋅β ⋅r₁₂  + 4⋅β\n",
       "──────────────────────────────────────────────────────────────────────────────\n",
       "                                                                              \n",
       "                                                                              \n",
       "\n",
       "                                                                              \n",
       "                                                                              \n",
       "        ⎞                 2                                                  2\n",
       "⋅r₁₂ + 1⎠ + r₁⋅(β⋅r₁₂ + 1) ⋅(4⋅β⋅r₁₂ + r₁₂ + 4) + 16⋅r₁₂⋅(r₁ - 1)⋅(β⋅r₁₂ + 1) \n",
       "──────────────────────────────────────────────────────────────────────────────\n",
       "                                                                              \n",
       "                                                                              \n",
       "\n",
       "                                                                     14⋅r₁⋅(β⋅\n",
       "                                                    -18⋅r₁ - 18⋅r₂ + ─────────\n",
       " ⎛ 4    4      3    3      2    2              ⎞⎞⎞                            \n",
       "⋅⎝β ⋅r₁₂  + 4⋅β ⋅r₁₂  + 6⋅β ⋅r₁₂  + 4⋅β⋅r₁₂ + 1⎠⎠⎠⋅ℯ                          \n",
       "──────────────────────────────────────────────────────────────────────────────\n",
       "                                                                              \n",
       "                                                                              \n",
       "\n",
       "r₁₂ + 1) + r₁₂ + 14⋅r₂⋅(β⋅r₁₂ + 1)\n",
       "──────────────────────────────────\n",
       "        β⋅r₁₂ + 1                 \n",
       "                                  \n",
       "──────────────────────────────────\n",
       "                                  \n",
       "                                  "
      ]
     },
     "execution_count": 26,
     "metadata": {},
     "output_type": "execute_result"
    }
   ],
   "source": [
    "# TODO: Explain this derivation\n",
    "grad_1 = grad_spherical(R1, r1, rhat1)\n",
    "del2_1 = del_spherical(R1, r1)\n",
    "\n",
    "grad_2 = grad_spherical(R2, r2, rhat2)\n",
    "del2_2 = del_spherical(R2, r2)\n",
    "\n",
    "gradG_1 = grad_spherical(G, r12, rhat12)\n",
    "del2G_1 = del_spherical(G, r12)\n",
    "\n",
    "grad_R1G = grad_combo(R1, grad_1, G, -gradG_1)\n",
    "\n",
    "delsq_R1G = del_combo(R1, grad_1, del2_1, G, -gradG_1, del2G_1)\n",
    "\n",
    "\n",
    "grad_R2G = grad_combo(R2, grad_2, G, gradG_1)\n",
    "delsq_R2G = del_combo(R2, grad_2, del2_2, G, gradG_1, del2G_1)\n",
    "\n",
    "# This is the integrand for the denominator\n",
    "psi2 = R1*R1*R2*R2*G*G\n",
    "\n",
    "h1 = -1/S(2) * (R2*R2) * R1 * G * delsq_R1G - 2*psi2/r1\n",
    "h2 = -1/S(2) * (R1*R1) * R2 * G * delsq_R2G - 2*psi2/r2\n",
    "h = h1 + h2 + psi2/r12\n",
    "h = simplify(h)\n",
    "# This is the integrand for the numerator\n",
    "h"
   ]
  },
  {
   "cell_type": "code",
   "execution_count": 27,
   "metadata": {
    "collapsed": true
   },
   "outputs": [],
   "source": [
    "# Symbols for performing the integration\n",
    "x1,y1,z1 = symbols('x1 y1 z1')\n",
    "x2,y2,z2 = symbols('x2 y2 z2')\n",
    "# Add a very tiny softening to keep the evaluation of the integrand from blowing up at certain points.\n",
    "r1_c = sqrt(x1*x1 + y1*y1 + z1*z1 + 1e-20)\n",
    "r2_c = sqrt(x2*x2 + y2*y2 + z2*z2 + 1e-20)\n",
    "r12_c = sqrt((x2-x1)*(x2-x1) + (y2-y1)*(y2-y1) + (z2-z1)*(z2-z1) + 1e-20)\n",
    "rhat1_12_c = (x1*(x2-x1) + y1*(y2-y1) + z1*(z2-z1))/r1_c/r12_c\n",
    "rhat2_12_c = (x2*(x2-x1) + y2*(y2-y1) + z2*(z2-z1))/r2_c/r12_c"
   ]
  },
  {
   "cell_type": "code",
   "execution_count": 42,
   "metadata": {
    "collapsed": false
   },
   "outputs": [
    {
     "name": "stdout",
     "output_type": "stream",
     "text": [
      "For beta =  1.0  Energy =  -2.82611479297\n",
      "Time: 96.18 seconds\n"
     ]
    }
   ],
   "source": [
    "# Perform 6D integral. Using scipy.integrate.nquad will take too long.\n",
    "# Use Cubature and Sympy LLVM JIT \n",
    "#  TODO: insert link to explain different integrators\n",
    "\n",
    "beta_val = 1.0\n",
    "num = tmp.subs(beta, beta_val)\n",
    "denom = simplify(tmp2.subs(beta, beta_val))\n",
    "\n",
    "ndim = 6\n",
    "lim_min = [-30.0]*ndim\n",
    "lim_max = [30.0]*ndim\n",
    "\n",
    "repls = [(r1, r1_c), (r2, r2_c), (r12, r12_c), (rhat1_12, rhat1_12_c), (rhat2_12, rhat2_12_c)]\n",
    "repls_n = [a for a in repls]\n",
    "tmp_h = h.subs(beta, beta_val)\n",
    "tmp_d = psi2.subs(beta, beta_val)\n",
    "\n",
    "# Use CSE (Common Subexpression Elimination) to speed up the integrand evaluation\n",
    "cse_h = cse([tmp_h, tmp_d])\n",
    "repls.extend(cse_h[0])\n",
    "expr_h = [repls, cse_h[1]]\n",
    "\n",
    "jit_expr = jit.llvm_callable( [x1, y1, z1, x2, y2, z2], expr_h, callback_type='cubature')\n",
    "\n",
    "epsrel = 1e-4\n",
    "start = timer()\n",
    "res = cubature(jit_expr, ndim=ndim, fdim=2, xmin=lim_min, xmax=lim_max, relerr=epsrel)\n",
    "end = timer()\n",
    "E = res[0][0]/res[0][1]\n",
    "print(\"For beta = \",beta_val,\" Energy = \",E)\n",
    "print(\"Time: %.2f seconds\"%(end-start))"
   ]
  },
  {
   "cell_type": "code",
   "execution_count": 15,
   "metadata": {
    "collapsed": true
   },
   "outputs": [],
   "source": [
    "# Collect computation of energy into a single function\n",
    "def compute_energy(beta_val):\n",
    "\n",
    "    repls = [(r1, r1_c), (r2, r2_c), (r12, r12_c), (rhat1_12, rhat1_12_c), (rhat2_12, rhat2_12_c)]\n",
    "    repls_n = [a for a in repls]\n",
    "    tmp_h = h.subs(beta, beta_val)\n",
    "    tmp_d = psi2.subs(beta, beta_val)\n",
    "\n",
    "    cse_h = cse([tmp_h,tmp_d])\n",
    "    repls.extend(cse_h[0])\n",
    "    expr_h = [repls, cse_h[1]]\n",
    "\n",
    "    jit_expr = jit.llvm_callable( [x1, y1, z1, x2, y2, z2], expr_h, callback_type='cubature')\n",
    "\n",
    "    epsrel = 1e-4\n",
    "    res = cubature(jit_expr, ndim=ndim, fdim=2, xmin=lim_min, xmax=lim_max, relerr=epsrel)\n",
    "    E = res[0][0]/res[0][1]\n",
    "\n",
    "    return E"
   ]
  },
  {
   "cell_type": "code",
   "execution_count": 31,
   "metadata": {
    "collapsed": false
   },
   "outputs": [
    {
     "name": "stdout",
     "output_type": "stream",
     "text": [
      "0.01 -2.86001117585\n",
      "0.03 -2.86676650391\n",
      "0.05 -2.87135272931\n",
      "0.06999999999999999 -2.87442400954\n",
      "0.09 -2.87639789443\n",
      "0.11 -2.87755791558\n",
      "0.13 -2.8781022511\n",
      "0.15000000000000002 -2.87817447072\n",
      "0.17 -2.87788106408\n",
      "0.19 -2.87730296758\n"
     ]
    }
   ],
   "source": [
    "# Compute energies over a range of variational parameters to find the minimum.\n",
    "energies = []\n",
    "betas = []\n",
    "for i in range(10):\n",
    "    beta_val = i*.02 + 0.01\n",
    "    e = compute_energy(beta_val)\n",
    "    print(beta_val, e)\n",
    "    betas.append(beta_val)\n",
    "    energies.append(e)"
   ]
  },
  {
   "cell_type": "code",
   "execution_count": 40,
   "metadata": {
    "collapsed": false
   },
   "outputs": [
    {
     "data": {
      "text/plain": [
       "<matplotlib.text.Text at 0x7f38a6a972b0>"
      ]
     },
     "execution_count": 40,
     "metadata": {},
     "output_type": "execute_result"
    },
    {
     "data": {
      "image/png": "[encoded data removed]",
      "text/plain": [
       "<matplotlib.figure.Figure at 0x7f38a7550470>"
      ]
     },
     "metadata": {},
     "output_type": "display_data"
    }
   ],
   "source": [
    "fig = plt.plot(betas, energies)\n",
    "fig[0].axes.set_xlabel(r\"$\\beta$\")\n",
    "fig[0].axes.set_ylabel(\"Energy\")"
   ]
  },
  {
   "cell_type": "code",
   "execution_count": null,
   "metadata": {
    "collapsed": true
   },
   "outputs": [],
   "source": []
  }
 ],
 "metadata": {
  "kernelspec": {
   "display_name": "Python 3",
   "language": "python",
   "name": "python3"
  },
  "language_info": {
   "codemirror_mode": {
    "name": "ipython",
    "version": 3
   },
   "file_extension": ".py",
   "mimetype": "text/x-python",
   "name": "python",
   "nbconvert_exporter": "python",
   "pygments_lexer": "ipython3",
   "version": "3.5.1"
  }
 },
 "nbformat": 4,
 "nbformat_minor": 0
}
