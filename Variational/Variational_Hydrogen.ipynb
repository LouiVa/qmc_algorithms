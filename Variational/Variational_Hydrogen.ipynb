{
 "cells": [
  {
   "cell_type": "code",
   "execution_count": 1,
   "metadata": {
    "collapsed": false
   },
   "outputs": [],
   "source": [
    "from sympy import *\n",
    "from sympy.abc import r,x,y,z\n",
    "from scipy.integrate import quad, nquad\n",
    "import matplotlib.pyplot as plt\n",
    "%matplotlib inline\n",
    "init_printing()"
   ]
  },
  {
   "cell_type": "markdown",
   "metadata": {},
   "source": [
    "# Energy of the Hydrogen Atom\n",
    "The variational principle states a trial wavefunction will have an energy greater than or equal to the ground state energy.\n",
    "$$\\frac{\\int \\psi H \\psi}{ \\int \\psi^2}  \\ge E_0$$\n",
    "\n",
    "First consider the hydogen atom. Let us use a trial wavefunction that is not the exact ground state."
   ]
  },
  {
   "cell_type": "code",
   "execution_count": 2,
   "metadata": {
    "collapsed": false
   },
   "outputs": [
    {
     "data": {
      "image/png": "[encoded data removed]",
      "text/latex": [
       "$$e^{- \\beta r^{2} - r}$$"
      ],
      "text/plain": [
       "      2    \n",
       " - β⋅r  - r\n",
       "ℯ          "
      ]
     },
     "execution_count": 2,
     "metadata": {},
     "output_type": "execute_result"
    }
   ],
   "source": [
    "beta = Symbol('beta')\n",
    "R_T = exp(-r - beta*r*r)\n",
    "R_T"
   ]
  },
  {
   "cell_type": "markdown",
   "metadata": {},
   "source": [
    "The Hamiltonian for this system is\n",
    "$$-\\frac{1}{2} \\nabla^2 - \\frac{1}{r}$$\n",
    "The first term is the kinetic energy of the electron, and the second term is the Coulomb attraction between the electron and proton.\n",
    "\n",
    "The first step is to compute the derivative of the trial wavefunction in spherical coordinates"
   ]
  },
  {
   "cell_type": "code",
   "execution_count": 3,
   "metadata": {
    "collapsed": true
   },
   "outputs": [],
   "source": [
    "def del_spherical(e, r):\n",
    "    \"\"\"Compute Laplacian for expression e with respect to symbol r.\n",
    "        Currently works only with radial dependence\"\"\"\n",
    "    t1 = r*r*diff(e, r)\n",
    "    t2 = diff(t1, r)/(r*r)\n",
    "    return simplify(t2)"
   ]
  },
  {
   "cell_type": "code",
   "execution_count": 4,
   "metadata": {
    "collapsed": false
   },
   "outputs": [],
   "source": [
    "del1 = del_spherical(R_T, r)\n"
   ]
  },
  {
   "cell_type": "markdown",
   "metadata": {},
   "source": [
    "Construct $\\psi H \\psi$"
   ]
  },
  {
   "cell_type": "code",
   "execution_count": 18,
   "metadata": {
    "collapsed": true
   },
   "outputs": [],
   "source": [
    "H = -1/S(2) * R_T * del1  - R_T*R_T/r"
   ]
  },
  {
   "cell_type": "code",
   "execution_count": 19,
   "metadata": {
    "collapsed": false
   },
   "outputs": [
    {
     "data": {
      "image/png": "[encoded data removed]",
      "text/latex": [
       "$$\\frac{1}{2} \\left(- 4 \\beta^{2} r^{2} - 4 \\beta r + 6 \\beta - 1\\right) e^{- 2 r \\left(\\beta r + 1\\right)}$$"
      ],
      "text/plain": [
       "⎛     2  2                  ⎞  -2⋅r⋅(β⋅r + 1)\n",
       "⎝- 4⋅β ⋅r  - 4⋅β⋅r + 6⋅β - 1⎠⋅ℯ              \n",
       "─────────────────────────────────────────────\n",
       "                      2                      "
      ]
     },
     "execution_count": 19,
     "metadata": {},
     "output_type": "execute_result"
    }
   ],
   "source": [
    "simplify(H)"
   ]
  },
  {
   "cell_type": "markdown",
   "metadata": {},
   "source": [
    "The integration occurs in 3D over the electron coordinates.  Because the integrand only has a dependence on $r$, it can be converted to spherical coordinates, and reduced to a 1D integral over $r$. (There should be an additional factor of $4 \\pi$, but it will cancel since it occurs in the numerator and denominator)"
   ]
  },
  {
   "cell_type": "code",
   "execution_count": 20,
   "metadata": {
    "collapsed": true
   },
   "outputs": [],
   "source": [
    "h1 = simplify(r*r*H)"
   ]
  },
  {
   "cell_type": "markdown",
   "metadata": {},
   "source": [
    "Substitute a concrete value for $\\beta$."
   ]
  },
  {
   "cell_type": "code",
   "execution_count": 21,
   "metadata": {
    "collapsed": true
   },
   "outputs": [],
   "source": [
    "h2 = h1.subs(beta, 0.1)"
   ]
  },
  {
   "cell_type": "markdown",
   "metadata": {},
   "source": [
    "Perform the integral"
   ]
  },
  {
   "cell_type": "code",
   "execution_count": 22,
   "metadata": {
    "collapsed": false
   },
   "outputs": [
    {
     "data": {
      "image/png": "[encoded data removed]",
      "text/latex": [
       "$$-0.0748992089974223$$"
      ],
      "text/plain": [
       "-0.0748992089974223"
      ]
     },
     "execution_count": 22,
     "metadata": {},
     "output_type": "execute_result"
    }
   ],
   "source": [
    "num = integrate(h2, (r, 0, oo)).evalf()\n",
    "num"
   ]
  },
  {
   "cell_type": "markdown",
   "metadata": {},
   "source": [
    "Also construct and integrate the denominator (the normalization)."
   ]
  },
  {
   "cell_type": "code",
   "execution_count": 23,
   "metadata": {
    "collapsed": true
   },
   "outputs": [],
   "source": [
    "norm1 = r*r*R_T*R_T\n",
    "norm2 = norm1.subs(beta, 0.1)\n",
    "norm3 = simplify(norm2)"
   ]
  },
  {
   "cell_type": "code",
   "execution_count": 24,
   "metadata": {
    "collapsed": false
   },
   "outputs": [
    {
     "data": {
      "image/png": "[encoded data removed]",
      "text/latex": [
       "$$0.160795736242432$$"
      ],
      "text/plain": [
       "0.160795736242432"
      ]
     },
     "execution_count": 24,
     "metadata": {},
     "output_type": "execute_result"
    }
   ],
   "source": [
    "denom = integrate(norm3, (r, 0, oo)).evalf()\n",
    "simplify(denom).evalf()"
   ]
  },
  {
   "cell_type": "code",
   "execution_count": 25,
   "metadata": {
    "collapsed": false
   },
   "outputs": [
    {
     "data": {
      "image/png": "[encoded data removed]",
      "text/latex": [
       "$$-0.465803451930447$$"
      ],
      "text/plain": [
       "-0.465803451930447"
      ]
     },
     "execution_count": 25,
     "metadata": {},
     "output_type": "execute_result"
    }
   ],
   "source": [
    "E = num/denom\n",
    "E"
   ]
  },
  {
   "cell_type": "markdown",
   "metadata": {},
   "source": [
    "And, as expected, energy is greater than the exact ground state energy of -0.5 Hartree.\n",
    "\n",
    "## Find the minimum energy\n",
    "Collect all the steps for computing the energy into a single function.   Even though this particular integral could be done symbolically, use numerical integration instead."
   ]
  },
  {
   "cell_type": "code",
   "execution_count": 29,
   "metadata": {
    "collapsed": true
   },
   "outputs": [],
   "source": [
    "def compute_energy(R_T, beta_val):\n",
    "    \"\"\"Energy given a value for beta\"\"\"\n",
    "    \n",
    "    # Normalization integrand (denominator)\n",
    "    norm1 = r*r*R_T*R_T\n",
    "    norm2 = norm1.subs(beta, beta_val)\n",
    "    norm3 = simplify(norm2)\n",
    "\n",
    "    # Integrand for the numerator\n",
    "    del1 = del_spherical(R_T, r)\n",
    "    # Construct psi * H * psi\n",
    "    H = -1/S(2) * R_T * del1  - R_T*R_T/r\n",
    "    h1 = simplify(r*r*H)\n",
    "    h2 = h1.subs(beta, beta_val)\n",
    "    \n",
    "    lim = 20.0\n",
    "    \n",
    "    denom_func = lambdify([r], norm3)\n",
    "    denom_res = quad(denom_func, 0.0, lim)\n",
    "    \n",
    "    num_func = lambdify([r], h2)\n",
    "    num_res = quad(num_func, 0.0, lim)\n",
    "\n",
    "    e = num_res[0]/denom_res[0]\n",
    "\n",
    "    return e\n",
    "   "
   ]
  },
  {
   "cell_type": "markdown",
   "metadata": {},
   "source": [
    "Now the energy can be computed vs. $\\beta$, and we can find the minimum energy.  In this case, the minimum occurs at $\\beta = 0$, which we know is the exact wavefunction for the hydrogen atom."
   ]
  },
  {
   "cell_type": "code",
   "execution_count": 30,
   "metadata": {
    "collapsed": false
   },
   "outputs": [
    {
     "data": {
      "text/plain": [
       "[<matplotlib.lines.Line2D at 0x7fa4bc2c4910>]"
      ]
     },
     "execution_count": 30,
     "metadata": {},
     "output_type": "execute_result"
    },
    {
     "data": {
      "image/png": "[encoded data removed]",
      "text/plain": [
       "<matplotlib.figure.Figure at 0x7fa4bc37f650>"
      ]
     },
     "metadata": {},
     "output_type": "display_data"
    }
   ],
   "source": [
    "energies = []\n",
    "betas = []\n",
    "for i in range(10):\n",
    "    beta_val = i*.01\n",
    "    e = compute_energy(R_T, beta_val)\n",
    "    betas.append(beta_val)\n",
    "    energies.append(e)\n",
    "\n",
    "plt.plot(betas, energies)"
   ]
  },
  {
   "cell_type": "code",
   "execution_count": null,
   "metadata": {
    "collapsed": true
   },
   "outputs": [],
   "source": []
  }
 ],
 "metadata": {
  "kernelspec": {
   "display_name": "Python 2",
   "language": "python",
   "name": "python2"
  },
  "language_info": {
   "codemirror_mode": {
    "name": "ipython",
    "version": 2
   },
   "file_extension": ".py",
   "mimetype": "text/x-python",
   "name": "python",
   "nbconvert_exporter": "python",
   "pygments_lexer": "ipython2",
   "version": "2.7.12"
  }
 },
 "nbformat": 4,
 "nbformat_minor": 0
}
