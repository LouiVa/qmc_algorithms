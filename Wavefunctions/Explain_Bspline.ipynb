{
 "cells": [
  {
   "cell_type": "code",
   "execution_count": 15,
   "metadata": {
    "collapsed": true
   },
   "outputs": [],
   "source": [
    "from sympy import *\n",
    "from collections import defaultdict\n",
    "from IPython.display import display\n",
    "import numpy as np\n",
    "import matplotlib.pyplot as plt\n",
    "%matplotlib inline\n",
    "init_printing()"
   ]
  },
  {
   "cell_type": "markdown",
   "metadata": {},
   "source": [
    "### Bspline basis"
   ]
  },
  {
   "cell_type": "code",
   "execution_count": 60,
   "metadata": {
    "collapsed": false
   },
   "outputs": [
    {
     "data": {
      "text/latex": [
       "$$\\begin{cases} \\frac{x^{3}}{6} & \\text{for}\\: x \\geq 0 \\wedge x < 1 \\\\- \\frac{x^{3}}{2} + 2 x^{2} - 2 x + \\frac{2}{3} & \\text{for}\\: x \\geq 1 \\wedge x < 2 \\\\\\frac{x^{3}}{2} - 4 x^{2} + 10 x - \\frac{22}{3} & \\text{for}\\: x \\geq 2 \\wedge x < 3 \\\\- \\frac{x^{3}}{6} + 2 x^{2} - 8 x + \\frac{32}{3} & \\text{for}\\: x \\geq 3 \\wedge x \\leq 4 \\\\0 & \\text{otherwise} \\end{cases}$$"
      ],
      "text/plain": [
       "⎧           3                             \n",
       "⎪          x                              \n",
       "⎪          ──            for x ≥ 0 ∧ x < 1\n",
       "⎪          6                              \n",
       "⎪                                         \n",
       "⎪   3                                     \n",
       "⎪  x       2         2                    \n",
       "⎪- ── + 2⋅x  - 2⋅x + ─   for x ≥ 1 ∧ x < 2\n",
       "⎪  2                 3                    \n",
       "⎪                                         \n",
       "⎨ 3                                       \n",
       "⎪x       2          22                    \n",
       "⎪── - 4⋅x  + 10⋅x - ──   for x ≥ 2 ∧ x < 3\n",
       "⎪2                  3                     \n",
       "⎪                                         \n",
       "⎪   3                                     \n",
       "⎪  x       2         32                   \n",
       "⎪- ── + 2⋅x  - 8⋅x + ──  for x ≥ 3 ∧ x ≤ 4\n",
       "⎪  6                 3                    \n",
       "⎪                                         \n",
       "⎩          0                 otherwise    "
      ]
     },
     "execution_count": 60,
     "metadata": {},
     "output_type": "execute_result"
    }
   ],
   "source": [
    "xs = Symbol('x')\n",
    "knots = [0,1,2,3,4,5,6]\n",
    "\n",
    "# Third-order bspline\n",
    "sym_basis = bspline_basis_set(3, knots, xs)\n",
    "# Form for one basis function\n",
    "sym_basis[0]"
   ]
  },
  {
   "cell_type": "code",
   "execution_count": 62,
   "metadata": {
    "collapsed": false
   },
   "outputs": [
    {
     "data": {
      "text/plain": [
       "[<matplotlib.lines.Line2D at 0x7f1aaad89b38>,\n",
       " <matplotlib.lines.Line2D at 0x7f1aaad89cf8>,\n",
       " <matplotlib.lines.Line2D at 0x7f1aaad8dda0>]"
      ]
     },
     "execution_count": 62,
     "metadata": {},
     "output_type": "execute_result"
    },
    {
     "data": {
      "image/png": "[encoded data removed]",
      "text/plain": [
       "<matplotlib.figure.Figure at 0x7f1aab3660f0>"
      ]
     },
     "metadata": {},
     "output_type": "display_data"
    }
   ],
   "source": [
    "# Plot some basis functions\n",
    "nbasis_to_plot = 3\n",
    "npoints_to_plot = 40\n",
    "basis_y = np.zeros((nbasis_to_plot, npoints_to_plot))\n",
    "xvals = np.zeros(npoints_to_plot)\n",
    "for i in range(npoints_to_plot):\n",
    "    xv = i*.1 + 1.0\n",
    "    for j in range(3):\n",
    "        basis_y[j,i] = sym_basis[j].subs(xs,xv)\n",
    "    xvals[i] = xv\n",
    "plt.plot(xvals, basis_y[0,:], xvals, basis_y[1,:], xvals, basis_y[2,:])"
   ]
  },
  {
   "cell_type": "markdown",
   "metadata": {},
   "source": [
    "### Function approximation\n",
    "To fully represent an interval (say, 0.0 - 5.0, with a knot spacing of 1.0), we need parts of basis functions outside the interval as well.  To approximate a function, we evaluate at the M knots (there are 6 knots for this example).  There will be M+2 basis functions."
   ]
  },
  {
   "cell_type": "code",
   "execution_count": 63,
   "metadata": {
    "collapsed": false
   },
   "outputs": [
    {
     "name": "stdout",
     "output_type": "stream",
     "text": [
      "Number of basis functions =  8\n"
     ]
    },
    {
     "data": {
      "text/latex": [
       "$$\\left [ \\begin{cases} \\frac{x^{3}}{6} + \\frac{3 x^{2}}{2} + \\frac{9 x}{2} + \\frac{9}{2} & \\text{for}\\: x \\geq -3 \\wedge x < -2 \\\\- \\frac{x^{3}}{2} - \\frac{5 x^{2}}{2} - \\frac{7 x}{2} - \\frac{5}{6} & \\text{for}\\: x \\geq -2 \\wedge x < -1 \\\\\\frac{x^{3}}{2} + \\frac{x^{2}}{2} - \\frac{x}{2} + \\frac{1}{6} & \\text{for}\\: x \\geq -1 \\wedge x < 0 \\\\- \\frac{x^{3}}{6} + \\frac{x^{2}}{2} - \\frac{x}{2} + \\frac{1}{6} & \\text{for}\\: x \\geq 0 \\wedge x \\leq 1 \\\\0 & \\text{otherwise} \\end{cases}, \\quad \\begin{cases} \\frac{x^{3}}{6} + x^{2} + 2 x + \\frac{4}{3} & \\text{for}\\: x \\geq -2 \\wedge x < -1 \\\\- \\frac{x^{3}}{2} - x^{2} + \\frac{2}{3} & \\text{for}\\: x \\geq -1 \\wedge x < 0 \\\\\\frac{x^{3}}{2} - x^{2} + \\frac{2}{3} & \\text{for}\\: x \\geq 0 \\wedge x < 1 \\\\- \\frac{x^{3}}{6} + x^{2} - 2 x + \\frac{4}{3} & \\text{for}\\: x \\geq 1 \\wedge x \\leq 2 \\\\0 & \\text{otherwise} \\end{cases}, \\quad \\begin{cases} \\frac{x^{3}}{6} + \\frac{x^{2}}{2} + \\frac{x}{2} + \\frac{1}{6} & \\text{for}\\: x \\geq -1 \\wedge x < 0 \\\\- \\frac{x^{3}}{2} + \\frac{x^{2}}{2} + \\frac{x}{2} + \\frac{1}{6} & \\text{for}\\: x \\geq 0 \\wedge x < 1 \\\\\\frac{x^{3}}{2} - \\frac{5 x^{2}}{2} + \\frac{7 x}{2} - \\frac{5}{6} & \\text{for}\\: x \\geq 1 \\wedge x < 2 \\\\- \\frac{x^{3}}{6} + \\frac{3 x^{2}}{2} - \\frac{9 x}{2} + \\frac{9}{2} & \\text{for}\\: x \\geq 2 \\wedge x \\leq 3 \\\\0 & \\text{otherwise} \\end{cases}, \\quad \\begin{cases} \\frac{x^{3}}{6} & \\text{for}\\: x \\geq 0 \\wedge x < 1 \\\\- \\frac{x^{3}}{2} + 2 x^{2} - 2 x + \\frac{2}{3} & \\text{for}\\: x \\geq 1 \\wedge x < 2 \\\\\\frac{x^{3}}{2} - 4 x^{2} + 10 x - \\frac{22}{3} & \\text{for}\\: x \\geq 2 \\wedge x < 3 \\\\- \\frac{x^{3}}{6} + 2 x^{2} - 8 x + \\frac{32}{3} & \\text{for}\\: x \\geq 3 \\wedge x \\leq 4 \\\\0 & \\text{otherwise} \\end{cases}, \\quad \\begin{cases} \\frac{x^{3}}{6} - \\frac{x^{2}}{2} + \\frac{x}{2} - \\frac{1}{6} & \\text{for}\\: x \\geq 1 \\wedge x < 2 \\\\- \\frac{x^{3}}{2} + \\frac{7 x^{2}}{2} - \\frac{15 x}{2} + \\frac{31}{6} & \\text{for}\\: x \\geq 2 \\wedge x < 3 \\\\\\frac{x^{3}}{2} - \\frac{11 x^{2}}{2} + \\frac{39 x}{2} - \\frac{131}{6} & \\text{for}\\: x \\geq 3 \\wedge x < 4 \\\\- \\frac{x^{3}}{6} + \\frac{5 x^{2}}{2} - \\frac{25 x}{2} + \\frac{125}{6} & \\text{for}\\: x \\geq 4 \\wedge x \\leq 5 \\\\0 & \\text{otherwise} \\end{cases}, \\quad \\begin{cases} \\frac{x^{3}}{6} - x^{2} + 2 x - \\frac{4}{3} & \\text{for}\\: x \\geq 2 \\wedge x < 3 \\\\- \\frac{x^{3}}{2} + 5 x^{2} - 16 x + \\frac{50}{3} & \\text{for}\\: x \\geq 3 \\wedge x < 4 \\\\\\frac{x^{3}}{2} - 7 x^{2} + 32 x - \\frac{142}{3} & \\text{for}\\: x \\geq 4 \\wedge x < 5 \\\\- \\frac{x^{3}}{6} + 3 x^{2} - 18 x + 36 & \\text{for}\\: x \\geq 5 \\wedge x \\leq 6 \\\\0 & \\text{otherwise} \\end{cases}, \\quad \\begin{cases} \\frac{x^{3}}{6} - \\frac{3 x^{2}}{2} + \\frac{9 x}{2} - \\frac{9}{2} & \\text{for}\\: x \\geq 3 \\wedge x < 4 \\\\- \\frac{x^{3}}{2} + \\frac{13 x^{2}}{2} - \\frac{55 x}{2} + \\frac{229}{6} & \\text{for}\\: x \\geq 4 \\wedge x < 5 \\\\\\frac{x^{3}}{2} - \\frac{17 x^{2}}{2} + \\frac{95 x}{2} - \\frac{521}{6} & \\text{for}\\: x \\geq 5 \\wedge x < 6 \\\\- \\frac{x^{3}}{6} + \\frac{7 x^{2}}{2} - \\frac{49 x}{2} + \\frac{343}{6} & \\text{for}\\: x \\geq 6 \\wedge x \\leq 7 \\\\0 & \\text{otherwise} \\end{cases}, \\quad \\begin{cases} \\frac{x^{3}}{6} - 2 x^{2} + 8 x - \\frac{32}{3} & \\text{for}\\: x \\geq 4 \\wedge x < 5 \\\\- \\frac{x^{3}}{2} + 8 x^{2} - 42 x + \\frac{218}{3} & \\text{for}\\: x \\geq 5 \\wedge x < 6 \\\\\\frac{x^{3}}{2} - 10 x^{2} + 66 x - \\frac{430}{3} & \\text{for}\\: x \\geq 6 \\wedge x < 7 \\\\- \\frac{x^{3}}{6} + 4 x^{2} - 32 x + \\frac{256}{3} & \\text{for}\\: x \\geq 7 \\wedge x \\leq 8 \\\\0 & \\text{otherwise} \\end{cases}\\right ]$$"
      ],
      "text/plain": [
       "⎡⎧  3      2                                  ⎧  3                            \n",
       "⎢⎪ x    3⋅x    9⋅x   9                        ⎪ x     2         4             \n",
       "⎢⎪ ── + ──── + ─── + ─   for x ≥ -3 ∧ x < -2  ⎪ ── + x  + 2⋅x + ─   for x ≥ -2\n",
       "⎢⎪ 6     2      2    2                        ⎪ 6               3             \n",
       "⎢⎪                                            ⎪                               \n",
       "⎢⎪   3      2                                 ⎪      3                        \n",
       "⎢⎪  x    5⋅x    7⋅x   5                       ⎪     x     2   2               \n",
       "⎢⎪- ── - ──── - ─── - ─  for x ≥ -2 ∧ x < -1  ⎪   - ── - x  + ─     for x ≥ -1\n",
       "⎢⎪  2     2      2    6                       ⎪     2         3               \n",
       "⎢⎪                                            ⎪                               \n",
       "⎢⎨    3    2                                , ⎨     3                         \n",
       "⎢⎪   x    x    x   1                          ⎪    x     2   2                \n",
       "⎢⎪   ── + ── - ─ + ─     for x ≥ -1 ∧ x < 0   ⎪    ── - x  + ─       for x ≥ 0\n",
       "⎢⎪   2    2    2   6                          ⎪    2         3                \n",
       "⎢⎪                                            ⎪                               \n",
       "⎢⎪     3    2                                 ⎪   3                           \n",
       "⎢⎪    x    x    x   1                         ⎪  x     2         4            \n",
       "⎢⎪  - ── + ── - ─ + ─     for x ≥ 0 ∧ x ≤ 1   ⎪- ── + x  - 2⋅x + ─   for x ≥ 1\n",
       "⎢⎪    6    2    2   6                         ⎪  6               3            \n",
       "⎢⎪                                            ⎪                               \n",
       "⎣⎩          0                 otherwise       ⎩         0                other\n",
       "\n",
       "           ⎧    3    2                                 ⎧           3          \n",
       "           ⎪   x    x    x   1                         ⎪          x           \n",
       " ∧ x < -1  ⎪   ── + ── + ─ + ─     for x ≥ -1 ∧ x < 0  ⎪          ──          \n",
       "           ⎪   6    2    2   6                         ⎪          6           \n",
       "           ⎪                                           ⎪                      \n",
       "           ⎪     3    2                                ⎪   3                  \n",
       "           ⎪    x    x    x   1                        ⎪  x       2         2 \n",
       " ∧ x < 0   ⎪  - ── + ── + ─ + ─    for x ≥ 0 ∧ x < 1   ⎪- ── + 2⋅x  - 2⋅x + ─ \n",
       "           ⎪    2    2    2   6                        ⎪  2                 3 \n",
       "           ⎪                                           ⎪                      \n",
       "         , ⎨  3      2                               , ⎨ 3                    \n",
       "           ⎪ x    5⋅x    7⋅x   5                       ⎪x       2          22 \n",
       " ∧ x < 1   ⎪ ── - ──── + ─── - ─   for x ≥ 1 ∧ x < 2   ⎪── - 4⋅x  + 10⋅x - ── \n",
       "           ⎪ 2     2      2    6                       ⎪2                  3  \n",
       "           ⎪                                           ⎪                      \n",
       "           ⎪   3      2                                ⎪   3                  \n",
       "           ⎪  x    3⋅x    9⋅x   9                      ⎪  x       2         32\n",
       " ∧ x ≤ 2   ⎪- ── + ──── - ─── + ─  for x ≥ 2 ∧ x ≤ 3   ⎪- ── + 2⋅x  - 8⋅x + ──\n",
       "           ⎪  6     2      2    2                      ⎪  6                 3 \n",
       "           ⎪                                           ⎪                      \n",
       "wise       ⎩          0                otherwise       ⎩          0           \n",
       "\n",
       "                     ⎧     3    2                                  ⎧    3     \n",
       "                     ⎪    x    x    x   1                          ⎪   x     2\n",
       "  for x ≥ 0 ∧ x < 1  ⎪    ── - ── + ─ - ─       for x ≥ 1 ∧ x < 2  ⎪   ── - x \n",
       "                     ⎪    6    2    2   6                          ⎪   6      \n",
       "                     ⎪                                             ⎪          \n",
       "                     ⎪   3      2                                  ⎪   3      \n",
       "                     ⎪  x    7⋅x    15⋅x   31                      ⎪  x       \n",
       "  for x ≥ 1 ∧ x < 2  ⎪- ── + ──── - ──── + ──   for x ≥ 2 ∧ x < 3  ⎪- ── + 5⋅x\n",
       "                     ⎪  2     2      2     6                       ⎪  2       \n",
       "                     ⎪                                             ⎪          \n",
       "                   , ⎨ 3       2                                 , ⎨ 3        \n",
       "                     ⎪x    11⋅x    39⋅x   131                      ⎪x       2 \n",
       "  for x ≥ 2 ∧ x < 3  ⎪── - ───── + ──── - ───   for x ≥ 3 ∧ x < 4  ⎪── - 7⋅x  \n",
       "                     ⎪2      2      2      6                       ⎪2         \n",
       "                     ⎪                                             ⎪          \n",
       "                     ⎪   3      2                                  ⎪   3      \n",
       "                     ⎪  x    5⋅x    25⋅x   125                     ⎪  x       \n",
       "  for x ≥ 3 ∧ x ≤ 4  ⎪- ── + ──── - ──── + ───  for x ≥ 4 ∧ x ≤ 5  ⎪- ── + 3⋅x\n",
       "                     ⎪  6     2      2      6                      ⎪  6       \n",
       "                     ⎪                                             ⎪          \n",
       "      otherwise      ⎩           0                  otherwise      ⎩          \n",
       "\n",
       "                                  ⎧    3      2                               \n",
       "         4                        ⎪   x    3⋅x    9⋅x   9                     \n",
       " + 2⋅x - ─     for x ≥ 2 ∧ x < 3  ⎪   ── - ──── + ─── - ─     for x ≥ 3 ∧ x < \n",
       "         3                        ⎪   6     2      2    2                     \n",
       "                                  ⎪                                           \n",
       "                                  ⎪   3       2                               \n",
       "2          50                     ⎪  x    13⋅x    55⋅x   229                  \n",
       "  - 16⋅x + ──  for x ≥ 3 ∧ x < 4  ⎪- ── + ───── - ──── + ───  for x ≥ 4 ∧ x < \n",
       "           3                      ⎪  2      2      2      6                   \n",
       "                                  ⎪                                           \n",
       "                                , ⎨  3       2                                \n",
       "         142                      ⎪ x    17⋅x    95⋅x   521                   \n",
       "+ 32⋅x - ───   for x ≥ 4 ∧ x < 5  ⎪ ── - ───── + ──── - ───   for x ≥ 5 ∧ x < \n",
       "          3                       ⎪ 2      2      2      6                    \n",
       "                                  ⎪                                           \n",
       "                                  ⎪   3      2                                \n",
       "2                                 ⎪  x    7⋅x    49⋅x   343                   \n",
       "  - 18⋅x + 36  for x ≥ 5 ∧ x ≤ 6  ⎪- ── + ──── - ──── + ───   for x ≥ 6 ∧ x ≤ \n",
       "                                  ⎪  6     2      2      6                    \n",
       "                                  ⎪                                           \n",
       " 0                 otherwise      ⎩            0                  otherwise   \n",
       "\n",
       "   ⎧   3                                       ⎤\n",
       "   ⎪  x       2         32                     ⎥\n",
       "4  ⎪  ── - 2⋅x  + 8⋅x - ──    for x ≥ 4 ∧ x < 5⎥\n",
       "   ⎪  6                 3                      ⎥\n",
       "   ⎪                                           ⎥\n",
       "   ⎪   3                                       ⎥\n",
       "   ⎪  x       2          218                   ⎥\n",
       "5  ⎪- ── + 8⋅x  - 42⋅x + ───  for x ≥ 5 ∧ x < 6⎥\n",
       "   ⎪  2                   3                    ⎥\n",
       "   ⎪                                           ⎥\n",
       " , ⎨ 3                                         ⎥\n",
       "   ⎪x        2          430                    ⎥\n",
       "6  ⎪── - 10⋅x  + 66⋅x - ───   for x ≥ 6 ∧ x < 7⎥\n",
       "   ⎪2                    3                     ⎥\n",
       "   ⎪                                           ⎥\n",
       "   ⎪   3                                       ⎥\n",
       "   ⎪  x       2          256                   ⎥\n",
       "7  ⎪- ── + 4⋅x  - 32⋅x + ───  for x ≥ 7 ∧ x ≤ 8⎥\n",
       "   ⎪  6                   3                    ⎥\n",
       "   ⎪                                           ⎥\n",
       "   ⎩           0                  otherwise    ⎦"
      ]
     },
     "execution_count": 63,
     "metadata": {},
     "output_type": "execute_result"
    }
   ],
   "source": [
    "# Need knot values outside the target interval to generate the right set of basis functions.\n",
    "knots = [0,1,2,3,4,5]\n",
    "all_knots = [-3,-2,-1,0,1,2,3,4,5,6,7,8]\n",
    "\n",
    "# Third-order bspline\n",
    "sym_basis = bspline_basis_set(3, all_knots, xs)\n",
    "print(\"Number of basis functions = \",len(sym_basis))\n",
    "sym_basis"
   ]
  },
  {
   "cell_type": "markdown",
   "metadata": {},
   "source": [
    "To approximate a function we need coefficients for each basis function \n",
    "$$\n",
    "f(x) = \\sum_0^{M+2} c_i B_i(x)\n",
    "$$\n",
    "The values of the function at the knots provides $M$ constraints.  We still need 2 more to fully specify the coefficients.   This is where the boundary conditions come into play.\n",
    "\n",
    "$$\n",
    "\\sum_0^{M+2} c_i B_i(x_j) = g(x_j)\n",
    "$$"
   ]
  },
  {
   "cell_type": "code",
   "execution_count": 116,
   "metadata": {
    "collapsed": false
   },
   "outputs": [
    {
     "data": {
      "image/png": "[encoded data removed]",
      "text/latex": [
       "$$\\left [ 1, \\quad -2, \\quad 1, \\quad 0, \\quad 0, \\quad 0, \\quad 0, \\quad 0\\right ]$$"
      ],
      "text/plain": [
       "[1, -2, 1, 0, 0, 0, 0, 0]"
      ]
     },
     "metadata": {},
     "output_type": "display_data"
    },
    {
     "data": {
      "image/png": "[encoded data removed]",
      "text/latex": [
       "$$\\left [ 0, \\quad 0, \\quad 0, \\quad 0, \\quad 0, \\quad 1, \\quad -2, \\quad 1\\right ]$$"
      ],
      "text/plain": [
       "[0, 0, 0, 0, 0, 1, -2, 1]"
      ]
     },
     "metadata": {},
     "output_type": "display_data"
    },
    {
     "data": {
      "text/latex": [
       "$$\\left[\\begin{matrix}1 & -2 & 1 & 0 & 0 & 0 & 0 & 0\\\\\\frac{1}{6} & \\frac{2}{3} & \\frac{1}{6} & 0 & 0 & 0 & 0 & 0\\\\0 & \\frac{1}{6} & \\frac{2}{3} & \\frac{1}{6} & 0 & 0 & 0 & 0\\\\0 & 0 & \\frac{1}{6} & \\frac{2}{3} & \\frac{1}{6} & 0 & 0 & 0\\\\0 & 0 & 0 & \\frac{1}{6} & \\frac{2}{3} & \\frac{1}{6} & 0 & 0\\\\0 & 0 & 0 & 0 & \\frac{1}{6} & \\frac{2}{3} & \\frac{1}{6} & 0\\\\0 & 0 & 0 & 0 & 0 & \\frac{1}{6} & \\frac{2}{3} & \\frac{1}{6}\\\\0 & 0 & 0 & 0 & 0 & 1 & -2 & 1\\end{matrix}\\right]$$"
      ],
      "text/plain": [
       "⎡ 1   -2    1    0    0    0    0    0 ⎤\n",
       "⎢                                      ⎥\n",
       "⎢1/6  2/3  1/6   0    0    0    0    0 ⎥\n",
       "⎢                                      ⎥\n",
       "⎢ 0   1/6  2/3  1/6   0    0    0    0 ⎥\n",
       "⎢                                      ⎥\n",
       "⎢ 0    0   1/6  2/3  1/6   0    0    0 ⎥\n",
       "⎢                                      ⎥\n",
       "⎢ 0    0    0   1/6  2/3  1/6   0    0 ⎥\n",
       "⎢                                      ⎥\n",
       "⎢ 0    0    0    0   1/6  2/3  1/6   0 ⎥\n",
       "⎢                                      ⎥\n",
       "⎢ 0    0    0    0    0   1/6  2/3  1/6⎥\n",
       "⎢                                      ⎥\n",
       "⎣ 0    0    0    0    0    1   -2    1 ⎦"
      ]
     },
     "execution_count": 116,
     "metadata": {},
     "output_type": "execute_result"
    }
   ],
   "source": [
    "# Fill out the coefficient matrix\n",
    "mat = Matrix.eye(len(knots)+2)\n",
    "for i,k in enumerate(knots):\n",
    "    for j,basis in enumerate(sym_basis):\n",
    "        bv = basis.subs(xs,k)\n",
    "        mat[i+1,j] = bv\n",
    "\n",
    "# Natural boundary conditions - set 2nd derivative at end of range to zero\n",
    "dd_spline = [diff(bs, xs, 2) for bs in sym_basis]\n",
    "\n",
    "row0 = [dds.subs(xs, 0) for dds in dd_spline]\n",
    "rowN = [dds.subs(xs, knots[-1]) for dds in dd_spline]\n",
    "display(row0)\n",
    "display(rowN)\n",
    "for i in range(len(row0)):\n",
    "    mat[0,i] = row0[i]\n",
    "    mat[-1,i] = rowN[i]\n",
    "mat\n"
   ]
  },
  {
   "cell_type": "code",
   "execution_count": 109,
   "metadata": {
    "collapsed": false
   },
   "outputs": [
    {
     "data": {
      "image/png": "[encoded data removed]",
      "text/latex": [
       "$$\\left [ 0, \\quad 1, \\quad 4, \\quad 9, \\quad 16, \\quad 25\\right ]$$"
      ],
      "text/plain": [
       "[0, 1, 4, 9, 16, 25]"
      ]
     },
     "execution_count": 109,
     "metadata": {},
     "output_type": "execute_result"
    }
   ],
   "source": [
    "# Let us assume a simple quadratic function for interpolation\n",
    "func_to_approx = [k*k for k in knots]\n",
    "func_to_approx"
   ]
  },
  {
   "cell_type": "markdown",
   "metadata": {},
   "source": [
    "### Solve for coefficients"
   ]
  },
  {
   "cell_type": "code",
   "execution_count": 115,
   "metadata": {
    "collapsed": false
   },
   "outputs": [
    {
     "data": {
      "image/png": "[encoded data removed]",
      "text/latex": [
       "$$\\left [ - \\frac{11}{19}, \\quad 0, \\quad \\frac{11}{19}, \\quad \\frac{70}{19}, \\quad \\frac{165}{19}, \\quad \\frac{296}{19}, \\quad 25, \\quad \\frac{654}{19}\\right ]$$"
      ],
      "text/plain": [
       "⎡-11      11  70  165  296      654⎤\n",
       "⎢────, 0, ──, ──, ───, ───, 25, ───⎥\n",
       "⎣ 19      19  19   19   19       19⎦"
      ]
     },
     "execution_count": 115,
     "metadata": {},
     "output_type": "execute_result"
    }
   ],
   "source": [
    "lhs_vals = [0] + func_to_approx + [0]  # Zeros are the value of the second derivative\n",
    "coeffs = mat.LUsolve(Matrix(len(lhs_vals), 1, lhs_vals))\n",
    "coeffs.T.tolist()[0]"
   ]
  },
  {
   "cell_type": "markdown",
   "metadata": {},
   "source": [
    "### Evaluate the spline"
   ]
  },
  {
   "cell_type": "code",
   "execution_count": 85,
   "metadata": {
    "collapsed": true
   },
   "outputs": [],
   "source": [
    "def spline_eval(basis, coeffs, x):\n",
    "    val = 0.0\n",
    "    for c,bs in zip(coeffs, basis):\n",
    "        val += c*bs.subs(xs,x)\n",
    "    return val"
   ]
  },
  {
   "cell_type": "code",
   "execution_count": 111,
   "metadata": {
    "collapsed": false
   },
   "outputs": [
    {
     "name": "stdout",
     "output_type": "stream",
     "text": [
      "0 0 0\n",
      "1 1 1\n",
      "2 4 4\n",
      "3 9 9\n",
      "4 16 16\n",
      "5 25 25\n"
     ]
    }
   ],
   "source": [
    "# check that it reproduces the knots\n",
    "for k,v in zip(knots,func_to_approx):\n",
    "    print(k,spline_eval(sym_basis, coeffs, k),v)"
   ]
  },
  {
   "cell_type": "code",
   "execution_count": 112,
   "metadata": {
    "collapsed": false
   },
   "outputs": [
    {
     "data": {
      "text/plain": [
       "[<matplotlib.lines.Line2D at 0x7f1aaab7ae48>]"
      ]
     },
     "execution_count": 112,
     "metadata": {},
     "output_type": "execute_result"
    },
    {
     "data": {
      "image/png": "[encoded data removed]",
      "text/plain": [
       "<matplotlib.figure.Figure at 0x7f1aab1c25f8>"
      ]
     },
     "metadata": {},
     "output_type": "display_data"
    }
   ],
   "source": [
    "# Now check elsewhere\n",
    "xvals = []\n",
    "yvals = []\n",
    "for i in range(50):\n",
    "    x = .1*i\n",
    "    val = spline_eval(sym_basis, coeffs, x)\n",
    "    xvals.append(x)\n",
    "    yvals.append(val)\n",
    "plt.plot(xvals, yvals)\n",
    "#plt.plot(xvals, yvals, knots, func_to_approx)"
   ]
  },
  {
   "cell_type": "markdown",
   "metadata": {},
   "source": [
    "### Matching Einspline\n",
    "The einspline code collects the values of each power of x in each interval.  The current form of the basis functions is a piecewise interval on the inside, and multiplication by the coefficients on the outside.  We would like to transpose this representation so that the intervals are on the outside, and the constributions from each coefficient are on the inside.  This will require some examination of the Sympy representation for intervals."
   ]
  },
  {
   "cell_type": "code",
   "execution_count": 117,
   "metadata": {
    "collapsed": true
   },
   "outputs": [],
   "source": [
    "def to_interval(ival):\n",
    "    \"\"\"Convert relational expression to an Interval\"\"\"\n",
    "    min_val = None\n",
    "    lower_open = False\n",
    "    max_val = None\n",
    "    upper_open = True\n",
    "    if isinstance(ival, And):\n",
    "        for rel in ival.args:\n",
    "            #print('rel ',rel, type(rel), rel.args[1])\n",
    "            if isinstance(rel, StrictGreaterThan):\n",
    "                min_val = rel.args[1]\n",
    "                #lower_open = True\n",
    "            elif isinstance(rel, GreaterThan):\n",
    "                min_val = rel.args[1]\n",
    "                #lower_open = False\n",
    "            elif isinstance(rel, StrictLessThan):\n",
    "                max_val = rel.args[1]\n",
    "                #upper_open = True\n",
    "            elif isinstance(rel, LessThan):\n",
    "                max_val = rel.args[1]\n",
    "                #upper_open = False\n",
    "            else:\n",
    "                print('unhandled ',rel)\n",
    "\n",
    "    if min_val == None or max_val == None:\n",
    "        print('error',ival)\n",
    "    return Interval(min_val, max_val, lower_open, upper_open)"
   ]
  },
  {
   "cell_type": "code",
   "execution_count": 128,
   "metadata": {
    "collapsed": false
   },
   "outputs": [
    {
     "name": "stdout",
     "output_type": "stream",
     "text": [
      "Interval =  [0, 1)\n"
     ]
    },
    {
     "data": {
      "image/png": "[encoded data removed]",
      "text/latex": [
       "$$\\left [ \\left ( 0, \\quad - \\frac{x^{3}}{6} + \\frac{x^{2}}{2} - \\frac{x}{2} + \\frac{1}{6}\\right ), \\quad \\left ( 1, \\quad \\frac{x^{3}}{2} - x^{2} + \\frac{2}{3}\\right ), \\quad \\left ( 2, \\quad - \\frac{x^{3}}{2} + \\frac{x^{2}}{2} + \\frac{x}{2} + \\frac{1}{6}\\right ), \\quad \\left ( 3, \\quad \\frac{x^{3}}{6}\\right )\\right ]$$"
      ],
      "text/plain": [
       "⎡⎛      3    2        ⎞  ⎛    3         ⎞  ⎛      3    2        ⎞  ⎛    3⎞⎤\n",
       "⎢⎜     x    x    x   1⎟  ⎜   x     2   2⎟  ⎜     x    x    x   1⎟  ⎜   x ⎟⎥\n",
       "⎢⎜0, - ── + ── - ─ + ─⎟, ⎜1, ── - x  + ─⎟, ⎜2, - ── + ── + ─ + ─⎟, ⎜3, ──⎟⎥\n",
       "⎣⎝     6    2    2   6⎠  ⎝   2         3⎠  ⎝     2    2    2   6⎠  ⎝   6 ⎠⎦"
      ]
     },
     "metadata": {},
     "output_type": "display_data"
    },
    {
     "name": "stdout",
     "output_type": "stream",
     "text": [
      "Interval =  [5, 6)\n"
     ]
    },
    {
     "data": {
      "image/png": "[encoded data removed]",
      "text/latex": [
       "$$\\left [ \\left ( 5, \\quad - \\frac{x^{3}}{6} + 3 x^{2} - 18 x + 36\\right ), \\quad \\left ( 6, \\quad \\frac{x^{3}}{2} - \\frac{17 x^{2}}{2} + \\frac{95 x}{2} - \\frac{521}{6}\\right ), \\quad \\left ( 7, \\quad - \\frac{x^{3}}{2} + 8 x^{2} - 42 x + \\frac{218}{3}\\right )\\right ]$$"
      ],
      "text/plain": [
       "⎡⎛      3                   ⎞  ⎛    3       2             ⎞  ⎛      3         \n",
       "⎢⎜     x       2            ⎟  ⎜   x    17⋅x    95⋅x   521⎟  ⎜     x       2  \n",
       "⎢⎜5, - ── + 3⋅x  - 18⋅x + 36⎟, ⎜6, ── - ───── + ──── - ───⎟, ⎜7, - ── + 8⋅x  -\n",
       "⎣⎝     6                    ⎠  ⎝   2      2      2      6 ⎠  ⎝     2          \n",
       "\n",
       "           ⎞⎤\n",
       "        218⎟⎥\n",
       " 42⋅x + ───⎟⎥\n",
       "         3 ⎠⎦"
      ]
     },
     "metadata": {},
     "output_type": "display_data"
    },
    {
     "name": "stdout",
     "output_type": "stream",
     "text": [
      "Interval =  [3, 4)\n"
     ]
    },
    {
     "data": {
      "image/png": "[encoded data removed]",
      "text/latex": [
       "$$\\left [ \\left ( 3, \\quad - \\frac{x^{3}}{6} + 2 x^{2} - 8 x + \\frac{32}{3}\\right ), \\quad \\left ( 4, \\quad \\frac{x^{3}}{2} - \\frac{11 x^{2}}{2} + \\frac{39 x}{2} - \\frac{131}{6}\\right ), \\quad \\left ( 5, \\quad - \\frac{x^{3}}{2} + 5 x^{2} - 16 x + \\frac{50}{3}\\right ), \\quad \\left ( 6, \\quad \\frac{x^{3}}{6} - \\frac{3 x^{2}}{2} + \\frac{9 x}{2} - \\frac{9}{2}\\right )\\right ]$$"
      ],
      "text/plain": [
       "⎡⎛      3                  ⎞  ⎛    3       2             ⎞  ⎛      3          \n",
       "⎢⎜     x       2         32⎟  ⎜   x    11⋅x    39⋅x   131⎟  ⎜     x       2   \n",
       "⎢⎜3, - ── + 2⋅x  - 8⋅x + ──⎟, ⎜4, ── - ───── + ──── - ───⎟, ⎜5, - ── + 5⋅x  - \n",
       "⎣⎝     6                 3 ⎠  ⎝   2      2      2      6 ⎠  ⎝     2           \n",
       "\n",
       "         ⎞  ⎛    3      2          ⎞⎤\n",
       "       50⎟  ⎜   x    3⋅x    9⋅x   9⎟⎥\n",
       "16⋅x + ──⎟, ⎜6, ── - ──── + ─── - ─⎟⎥\n",
       "       3 ⎠  ⎝   6     2      2    2⎠⎦"
      ]
     },
     "metadata": {},
     "output_type": "display_data"
    },
    {
     "name": "stdout",
     "output_type": "stream",
     "text": [
      "Interval =  [2, 3)\n"
     ]
    },
    {
     "data": {
      "image/png": "[encoded data removed]",
      "text/latex": [
       "$$\\left [ \\left ( 2, \\quad - \\frac{x^{3}}{6} + \\frac{3 x^{2}}{2} - \\frac{9 x}{2} + \\frac{9}{2}\\right ), \\quad \\left ( 3, \\quad \\frac{x^{3}}{2} - 4 x^{2} + 10 x - \\frac{22}{3}\\right ), \\quad \\left ( 4, \\quad - \\frac{x^{3}}{2} + \\frac{7 x^{2}}{2} - \\frac{15 x}{2} + \\frac{31}{6}\\right ), \\quad \\left ( 5, \\quad \\frac{x^{3}}{6} - x^{2} + 2 x - \\frac{4}{3}\\right )\\right ]$$"
      ],
      "text/plain": [
       "⎡⎛      3      2          ⎞  ⎛    3                   ⎞  ⎛      3      2      \n",
       "⎢⎜     x    3⋅x    9⋅x   9⎟  ⎜   x       2          22⎟  ⎜     x    7⋅x    15⋅\n",
       "⎢⎜2, - ── + ──── - ─── + ─⎟, ⎜3, ── - 4⋅x  + 10⋅x - ──⎟, ⎜4, - ── + ──── - ───\n",
       "⎣⎝     6     2      2    2⎠  ⎝   2                  3 ⎠  ⎝     2     2      2 \n",
       "\n",
       "      ⎞  ⎛    3               ⎞⎤\n",
       "x   31⎟  ⎜   x     2         4⎟⎥\n",
       "─ + ──⎟, ⎜5, ── - x  + 2⋅x - ─⎟⎥\n",
       "    6 ⎠  ⎝   6               3⎠⎦"
      ]
     },
     "metadata": {},
     "output_type": "display_data"
    },
    {
     "name": "stdout",
     "output_type": "stream",
     "text": [
      "Interval =  [1, 2)\n"
     ]
    },
    {
     "data": {
      "image/png": "[encoded data removed]",
      "text/latex": [
       "$$\\left [ \\left ( 1, \\quad - \\frac{x^{3}}{6} + x^{2} - 2 x + \\frac{4}{3}\\right ), \\quad \\left ( 2, \\quad \\frac{x^{3}}{2} - \\frac{5 x^{2}}{2} + \\frac{7 x}{2} - \\frac{5}{6}\\right ), \\quad \\left ( 3, \\quad - \\frac{x^{3}}{2} + 2 x^{2} - 2 x + \\frac{2}{3}\\right ), \\quad \\left ( 4, \\quad \\frac{x^{3}}{6} - \\frac{x^{2}}{2} + \\frac{x}{2} - \\frac{1}{6}\\right )\\right ]$$"
      ],
      "text/plain": [
       "⎡⎛      3               ⎞  ⎛    3      2          ⎞  ⎛      3                 \n",
       "⎢⎜     x     2         4⎟  ⎜   x    5⋅x    7⋅x   5⎟  ⎜     x       2         2\n",
       "⎢⎜1, - ── + x  - 2⋅x + ─⎟, ⎜2, ── - ──── + ─── - ─⎟, ⎜3, - ── + 2⋅x  - 2⋅x + ─\n",
       "⎣⎝     6               3⎠  ⎝   2     2      2    6⎠  ⎝     2                 3\n",
       "\n",
       "⎞  ⎛    3    2        ⎞⎤\n",
       "⎟  ⎜   x    x    x   1⎟⎥\n",
       "⎟, ⎜4, ── - ── + ─ - ─⎟⎥\n",
       "⎠  ⎝   6    2    2   6⎠⎦"
      ]
     },
     "metadata": {},
     "output_type": "display_data"
    },
    {
     "name": "stdout",
     "output_type": "stream",
     "text": [
      "Interval =  [4, 5)\n"
     ]
    },
    {
     "data": {
      "image/png": "[encoded data removed]",
      "text/latex": [
       "$$\\left [ \\left ( 4, \\quad - \\frac{x^{3}}{6} + \\frac{5 x^{2}}{2} - \\frac{25 x}{2} + \\frac{125}{6}\\right ), \\quad \\left ( 5, \\quad \\frac{x^{3}}{2} - 7 x^{2} + 32 x - \\frac{142}{3}\\right ), \\quad \\left ( 6, \\quad - \\frac{x^{3}}{2} + \\frac{13 x^{2}}{2} - \\frac{55 x}{2} + \\frac{229}{6}\\right ), \\quad \\left ( 7, \\quad \\frac{x^{3}}{6} - 2 x^{2} + 8 x - \\frac{32}{3}\\right )\\right ]$$"
      ],
      "text/plain": [
       "⎡⎛      3      2             ⎞  ⎛    3                    ⎞  ⎛      3       2 \n",
       "⎢⎜     x    5⋅x    25⋅x   125⎟  ⎜   x       2          142⎟  ⎜     x    13⋅x  \n",
       "⎢⎜4, - ── + ──── - ──── + ───⎟, ⎜5, ── - 7⋅x  + 32⋅x - ───⎟, ⎜6, - ── + ───── \n",
       "⎣⎝     6     2      2      6 ⎠  ⎝   2                   3 ⎠  ⎝     2      2   \n",
       "\n",
       "            ⎞  ⎛    3                  ⎞⎤\n",
       "  55⋅x   229⎟  ⎜   x       2         32⎟⎥\n",
       "- ──── + ───⎟, ⎜7, ── - 2⋅x  + 8⋅x - ──⎟⎥\n",
       "   2      6 ⎠  ⎝   6                 3 ⎠⎦"
      ]
     },
     "metadata": {},
     "output_type": "display_data"
    }
   ],
   "source": [
    "# Transpose the interval and coefficients\n",
    "#  Note that interval [0,1) has the polynomial coefficients found in the einspline code\n",
    "#  The other intervals could be shifted, and they would also have the same polynomials\n",
    "cond_map = defaultdict(list)\n",
    "\n",
    "i1 = Interval(0,5, False, False) # interval for evaluation\n",
    "for idx, s0 in enumerate(sym_basis):\n",
    "    for expr, cond in s0.args:\n",
    "        if cond != True:\n",
    "            i2 = to_interval(cond)\n",
    "            if not i1.is_disjoint(i2):\n",
    "                cond_map[i2].append( (idx, expr) )\n",
    "for cond, expr in cond_map.items():\n",
    "    #print(cond, [e.subs(x, x-cond.args[0]) for e in expr])\n",
    "    print(\"Interval = \",cond)\n",
    "    # Shift interval to a common start - see that the polynomial coefficients are all the same\n",
    "    #e2 = [expand(e[1].subs(xs, xs+cond.args[0])) for e in expr]\n",
    "    e2 = [(idx,expand(e)) for idx, e in expr]\n",
    "    display(e2)"
   ]
  },
  {
   "cell_type": "code",
   "execution_count": 129,
   "metadata": {
    "collapsed": false
   },
   "outputs": [
    {
     "data": {
      "text/latex": [
       "$$\\begin{cases} \\frac{x^{3} c_{3}}{6} + \\left(\\frac{x^{3}}{2} - x^{2} + \\frac{2}{3}\\right) c_{1} + \\left(- \\frac{x^{3}}{2} + \\frac{x^{2}}{2} + \\frac{x}{2} + \\frac{1}{6}\\right) c_{2} + \\left(- \\frac{x^{3}}{6} + \\frac{x^{2}}{2} - \\frac{x}{2} + \\frac{1}{6}\\right) c_{0} & \\text{for}\\: 0 \\leq x \\wedge x < 1 \\\\\\left(- \\frac{x^{3}}{2} + 8 x^{2} - 42 x + \\frac{218}{3}\\right) c_{7} + \\left(- \\frac{x^{3}}{6} + 3 x^{2} - 18 x + 36\\right) c_{5} + \\left(\\frac{x^{3}}{2} - \\frac{17 x^{2}}{2} + \\frac{95 x}{2} - \\frac{521}{6}\\right) c_{6} & \\text{for}\\: 5 \\leq x \\wedge x < 6 \\\\\\left(- \\frac{x^{3}}{2} + 5 x^{2} - 16 x + \\frac{50}{3}\\right) c_{5} + \\left(- \\frac{x^{3}}{6} + 2 x^{2} - 8 x + \\frac{32}{3}\\right) c_{3} + \\left(\\frac{x^{3}}{6} - \\frac{3 x^{2}}{2} + \\frac{9 x}{2} - \\frac{9}{2}\\right) c_{6} + \\left(\\frac{x^{3}}{2} - \\frac{11 x^{2}}{2} + \\frac{39 x}{2} - \\frac{131}{6}\\right) c_{4} & \\text{for}\\: 3 \\leq x \\wedge x < 4 \\\\\\left(- \\frac{x^{3}}{2} + \\frac{7 x^{2}}{2} - \\frac{15 x}{2} + \\frac{31}{6}\\right) c_{4} + \\left(- \\frac{x^{3}}{6} + \\frac{3 x^{2}}{2} - \\frac{9 x}{2} + \\frac{9}{2}\\right) c_{2} + \\left(\\frac{x^{3}}{6} - x^{2} + 2 x - \\frac{4}{3}\\right) c_{5} + \\left(\\frac{x^{3}}{2} - 4 x^{2} + 10 x - \\frac{22}{3}\\right) c_{3} & \\text{for}\\: 2 \\leq x \\wedge x < 3 \\\\\\left(- \\frac{x^{3}}{2} + 2 x^{2} - 2 x + \\frac{2}{3}\\right) c_{3} + \\left(- \\frac{x^{3}}{6} + x^{2} - 2 x + \\frac{4}{3}\\right) c_{1} + \\left(\\frac{x^{3}}{6} - \\frac{x^{2}}{2} + \\frac{x}{2} - \\frac{1}{6}\\right) c_{4} + \\left(\\frac{x^{3}}{2} - \\frac{5 x^{2}}{2} + \\frac{7 x}{2} - \\frac{5}{6}\\right) c_{2} & \\text{for}\\: 1 \\leq x \\wedge x < 2 \\\\\\left(- \\frac{x^{3}}{2} + \\frac{13 x^{2}}{2} - \\frac{55 x}{2} + \\frac{229}{6}\\right) c_{6} + \\left(- \\frac{x^{3}}{6} + \\frac{5 x^{2}}{2} - \\frac{25 x}{2} + \\frac{125}{6}\\right) c_{4} + \\left(\\frac{x^{3}}{6} - 2 x^{2} + 8 x - \\frac{32}{3}\\right) c_{7} + \\left(\\frac{x^{3}}{2} - 7 x^{2} + 32 x - \\frac{142}{3}\\right) c_{5} & \\text{for}\\: 4 \\leq x \\wedge x < 5 \\end{cases}$$"
      ],
      "text/plain": [
       "⎧                        3        ⎛ 3         ⎞        ⎛   3    2        ⎞    \n",
       "⎪                       x ⋅c[3]   ⎜x     2   2⎟        ⎜  x    x    x   1⎟    \n",
       "⎪                       ─────── + ⎜── - x  + ─⎟⋅c[1] + ⎜- ── + ── + ─ + ─⎟⋅c[2\n",
       "⎪                          6      ⎝2         3⎠        ⎝  2    2    2   6⎠    \n",
       "⎪                                                                             \n",
       "⎪               ⎛   3                    ⎞        ⎛   3                   ⎞   \n",
       "⎪               ⎜  x       2          218⎟        ⎜  x       2            ⎟   \n",
       "⎪               ⎜- ── + 8⋅x  - 42⋅x + ───⎟⋅c[7] + ⎜- ── + 3⋅x  - 18⋅x + 36⎟⋅c[\n",
       "⎪               ⎝  2                   3 ⎠        ⎝  6                    ⎠   \n",
       "⎪                                                                             \n",
       "⎪  ⎛   3                   ⎞        ⎛   3                  ⎞        ⎛ 3      2\n",
       "⎪  ⎜  x       2          50⎟        ⎜  x       2         32⎟        ⎜x    3⋅x \n",
       "⎪  ⎜- ── + 5⋅x  - 16⋅x + ──⎟⋅c[5] + ⎜- ── + 2⋅x  - 8⋅x + ──⎟⋅c[3] + ⎜── - ────\n",
       "⎪  ⎝  2                  3 ⎠        ⎝  6                 3 ⎠        ⎝6     2  \n",
       "⎨                                                                             \n",
       "⎪    ⎛   3      2            ⎞        ⎛   3      2          ⎞        ⎛ 3      \n",
       "⎪    ⎜  x    7⋅x    15⋅x   31⎟        ⎜  x    3⋅x    9⋅x   9⎟        ⎜x     2 \n",
       "⎪    ⎜- ── + ──── - ──── + ──⎟⋅c[4] + ⎜- ── + ──── - ─── + ─⎟⋅c[2] + ⎜── - x  \n",
       "⎪    ⎝  2     2      2     6 ⎠        ⎝  6     2      2    2⎠        ⎝6       \n",
       "⎪                                                                             \n",
       "⎪        ⎛   3                 ⎞        ⎛   3               ⎞        ⎛ 3    2 \n",
       "⎪        ⎜  x       2         2⎟        ⎜  x     2         4⎟        ⎜x    x  \n",
       "⎪        ⎜- ── + 2⋅x  - 2⋅x + ─⎟⋅c[3] + ⎜- ── + x  - 2⋅x + ─⎟⋅c[1] + ⎜── - ── \n",
       "⎪        ⎝  2                 3⎠        ⎝  6               3⎠        ⎝6    2  \n",
       "⎪                                                                             \n",
       "⎪⎛   3       2             ⎞        ⎛   3      2             ⎞        ⎛ 3     \n",
       "⎪⎜  x    13⋅x    55⋅x   229⎟        ⎜  x    5⋅x    25⋅x   125⎟        ⎜x      \n",
       "⎪⎜- ── + ───── - ──── + ───⎟⋅c[6] + ⎜- ── + ──── - ──── + ───⎟⋅c[4] + ⎜── - 2⋅\n",
       "⎩⎝  2      2      2      6 ⎠        ⎝  6     2      2      6 ⎠        ⎝6      \n",
       "\n",
       "    ⎛   3    2        ⎞                                               \n",
       "    ⎜  x    x    x   1⎟                                               \n",
       "] + ⎜- ── + ── - ─ + ─⎟⋅c[0]                         for 0 ≤ x ∧ x < 1\n",
       "    ⎝  6    2    2   6⎠                                               \n",
       "                                                                      \n",
       "     ⎛ 3       2             ⎞                                        \n",
       "     ⎜x    17⋅x    95⋅x   521⎟                                        \n",
       "5] + ⎜── - ───── + ──── - ───⎟⋅c[6]                  for 5 ≤ x ∧ x < 6\n",
       "     ⎝2      2      2      6 ⎠                                        \n",
       "                                                                      \n",
       "          ⎞        ⎛ 3       2             ⎞                          \n",
       "   9⋅x   9⎟        ⎜x    11⋅x    39⋅x   131⎟                          \n",
       " + ─── - ─⎟⋅c[6] + ⎜── - ───── + ──── - ───⎟⋅c[4]    for 3 ≤ x ∧ x < 4\n",
       "    2    2⎠        ⎝2      2      2      6 ⎠                          \n",
       "                                                                      \n",
       "         ⎞        ⎛ 3                   ⎞                             \n",
       "        4⎟        ⎜x       2          22⎟                             \n",
       "+ 2⋅x - ─⎟⋅c[5] + ⎜── - 4⋅x  + 10⋅x - ──⎟⋅c[3]       for 2 ≤ x ∧ x < 3\n",
       "        3⎠        ⎝2                  3 ⎠                             \n",
       "                                                                      \n",
       "       ⎞        ⎛ 3      2          ⎞                                 \n",
       "  x   1⎟        ⎜x    5⋅x    7⋅x   5⎟                                 \n",
       "+ ─ - ─⎟⋅c[4] + ⎜── - ──── + ─── - ─⎟⋅c[2]           for 1 ≤ x ∧ x < 2\n",
       "  2   6⎠        ⎝2     2      2    6⎠                                 \n",
       "                                                                      \n",
       "             ⎞        ⎛ 3                    ⎞                        \n",
       " 2         32⎟        ⎜x       2          142⎟                        \n",
       "x  + 8⋅x - ──⎟⋅c[7] + ⎜── - 7⋅x  + 32⋅x - ───⎟⋅c[5]  for 4 ≤ x ∧ x < 5\n",
       "           3 ⎠        ⎝2                   3 ⎠                        "
      ]
     },
     "execution_count": 129,
     "metadata": {},
     "output_type": "execute_result"
    }
   ],
   "source": [
    "# Create piecewise expression from the transposed intervals\n",
    "def recreate_piecewise(basis_map, c):\n",
    "    args = []\n",
    "    for cond, exprs in basis_map.items():\n",
    "        e = 0\n",
    "        for idx, b in exprs:\n",
    "            e += c[idx] * b\n",
    "        args.append( (e, cond.as_relational(xs)))\n",
    "    return Piecewise(*args)\n",
    "\n",
    "c = IndexedBase('c')\n",
    "spline = recreate_piecewise(cond_map, c)\n",
    "spline"
   ]
  },
  {
   "cell_type": "code",
   "execution_count": 134,
   "metadata": {
    "collapsed": true
   },
   "outputs": [],
   "source": [
    "def spline_eval2(spline, coeffs, x):\n",
    "    \"\"\"Evaluate spline using transposed expression\"\"\"\n",
    "    val = 0.0\n",
    "    c = IndexedBase('c')\n",
    "    to_sub = {}\n",
    "    for i,cf in enumerate(coeffs):\n",
    "        to_sub[c[i]] = cf\n",
    "    to_sub[xs] = x\n",
    "    return spline.subs(to_sub)\n"
   ]
  },
  {
   "cell_type": "code",
   "execution_count": 135,
   "metadata": {
    "collapsed": false
   },
   "outputs": [
    {
     "name": "stdout",
     "output_type": "stream",
     "text": [
      "0 0\n",
      "1 1\n",
      "2 4\n",
      "3 9\n",
      "4 16\n",
      "5 25\n"
     ]
    }
   ],
   "source": [
    "for k in knots:\n",
    "    val = spline_eval2(spline, coeffs, k)\n",
    "    print(k,val)"
   ]
  },
  {
   "cell_type": "code",
   "execution_count": null,
   "metadata": {
    "collapsed": true
   },
   "outputs": [],
   "source": []
  }
 ],
 "metadata": {
  "kernelspec": {
   "display_name": "Python 3",
   "language": "python",
   "name": "python3"
  },
  "language_info": {
   "codemirror_mode": {
    "name": "ipython",
    "version": 3
   },
   "file_extension": ".py",
   "mimetype": "text/x-python",
   "name": "python",
   "nbconvert_exporter": "python",
   "pygments_lexer": "ipython3",
   "version": "3.5.1"
  }
 },
 "nbformat": 4,
 "nbformat_minor": 0
}
