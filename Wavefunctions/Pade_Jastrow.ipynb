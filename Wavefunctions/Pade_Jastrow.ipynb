{
 "cells": [
  {
   "cell_type": "code",
   "execution_count": 1,
   "metadata": {
    "collapsed": false
   },
   "outputs": [],
   "source": [
    "from sympy import *\n",
    "init_printing() # For Sympy\n",
    "from IPython.display import display"
   ]
  },
  {
   "cell_type": "markdown",
   "metadata": {},
   "source": [
    "## Simple Pade form for the Jastrow factor.\n",
    "\n",
    "The value of $A$ is fixed by the cusp condition at $r=0$."
   ]
  },
  {
   "cell_type": "code",
   "execution_count": 2,
   "metadata": {
    "collapsed": false
   },
   "outputs": [
    {
     "data": {
      "image/png": "[encoded data removed]",
      "text/latex": [
       "$$u = \\frac{A r}{B r + 1.0} - \\frac{A}{B}$$"
      ],
      "text/plain": [
       "       A⋅r      A\n",
       "u = ───────── - ─\n",
       "    B⋅r + 1.0   B"
      ]
     },
     "metadata": {},
     "output_type": "display_data"
    }
   ],
   "source": [
    "A, B, r = symbols('A B r')\n",
    "u = A*r/(1.0 + B*r) - A/B\n",
    "sym_u = Symbol('u')\n",
    "display(Eq(sym_u,u))"
   ]
  },
  {
   "cell_type": "code",
   "execution_count": 3,
   "metadata": {
    "collapsed": false
   },
   "outputs": [
    {
     "data": {
      "image/png": "[encoded data removed]",
      "text/latex": [
       "$$\\frac{du}{dr} = \\frac{1.0 A}{\\left(B r + 1.0\\right)^{2}}$$"
      ],
      "text/plain": [
       "du      1.0⋅A    \n",
       "── = ────────────\n",
       "dr              2\n",
       "     (B⋅r + 1.0) "
      ]
     },
     "metadata": {},
     "output_type": "display_data"
    },
    {
     "data": {
      "image/png": "[encoded data removed]",
      "text/latex": [
       "$$\\frac{d^{2} u}{dr^{2}} = - \\frac{2.0 A B}{\\left(B r + 1.0\\right)^{3}}$$"
      ],
      "text/plain": [
       "d²⋅u    -2.0⋅A⋅B   \n",
       "──── = ────────────\n",
       "dr²               3\n",
       "       (B⋅r + 1.0) "
      ]
     },
     "metadata": {},
     "output_type": "display_data"
    }
   ],
   "source": [
    "# Symbolic derivatives\n",
    "du = diff(u, r)\n",
    "du = simplify(du)\n",
    "sym_du = Symbol('du')/Symbol('dr')\n",
    "display(Eq(sym_du, du))\n",
    "ddu = simplify(diff(u, r, 2))\n",
    "sym_ddu = Symbol('d^2')*Symbol('u')/Symbol('dr^2')\n",
    "display(Eq(sym_ddu, ddu))\n"
   ]
  },
  {
   "cell_type": "code",
   "execution_count": 4,
   "metadata": {
    "collapsed": false
   },
   "outputs": [
    {
     "data": {
      "image/png": "[encoded data removed]",
      "text/latex": [
       "$$u = 2.27272727272727$$"
      ],
      "text/plain": [
       "u = 2.27272727272727"
      ]
     },
     "metadata": {},
     "output_type": "display_data"
    },
    {
     "data": {
      "image/png": "[encoded data removed]",
      "text/latex": [
       "$$\\frac{du}{dr} = -0.206611570247934$$"
      ],
      "text/plain": [
       "du                     \n",
       "── = -0.206611570247934\n",
       "dr                     "
      ]
     },
     "metadata": {},
     "output_type": "display_data"
    },
    {
     "data": {
      "image/png": "[encoded data removed]",
      "text/latex": [
       "$$\\frac{d^{2} u}{dr^{2}} = 0.0375657400450789$$"
      ],
      "text/plain": [
       "d²⋅u                     \n",
       "──── = 0.0375657400450789\n",
       "dr²                      "
      ]
     },
     "metadata": {},
     "output_type": "display_data"
    }
   ],
   "source": [
    "# Substitute concrete values to evaluate\n",
    "vals = {A:-0.25, B: 0.1, r:1.0}\n",
    "display(Eq(sym_u, u.subs(vals)))\n",
    "display(Eq(sym_du, du.subs(vals)))\n",
    "display(Eq(sym_ddu, ddu.subs(vals)))"
   ]
  },
  {
   "cell_type": "code",
   "execution_count": null,
   "metadata": {
    "collapsed": true
   },
   "outputs": [],
   "source": []
  }
 ],
 "metadata": {
  "kernelspec": {
   "display_name": "Python 2",
   "language": "python",
   "name": "python2"
  },
  "language_info": {
   "codemirror_mode": {
    "name": "ipython",
    "version": 2
   },
   "file_extension": ".py",
   "mimetype": "text/x-python",
   "name": "python",
   "nbconvert_exporter": "python",
   "pygments_lexer": "ipython2",
   "version": "2.7.12"
  }
 },
 "nbformat": 4,
 "nbformat_minor": 0
}
