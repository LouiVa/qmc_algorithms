{
 "cells": [
  {
   "cell_type": "code",
   "execution_count": 160,
   "metadata": {
    "collapsed": true
   },
   "outputs": [],
   "source": [
    "import h5py\n",
    "import math\n",
    "import numpy as np\n",
    "import scipy.fftpack\n",
    "import matplotlib.pyplot as plt\n",
    "%matplotlib inline\n"
   ]
  },
  {
   "cell_type": "markdown",
   "metadata": {},
   "source": [
    "### Reading and interpreting plane wave files\n",
    "These files are the output of Quantum Espresso using pw2qmcpack, which is contained in some patches to QE shipped with QMCPACK (in the external_files/quantum_espresso directory).   These files are in HDF5 format."
   ]
  },
  {
   "cell_type": "code",
   "execution_count": 345,
   "metadata": {
    "collapsed": false
   },
   "outputs": [],
   "source": [
    "#f = h5py.File(\"../LiH-gamma.pwscf.h5\",\"r\")\n",
    "#f = h5py.File(\"../LiH-arb.pwscf.h5\",\"r\")\n",
    "f = h5py.File(\"../../bccH/pwscf.pwscf.h5\",\"r\")"
   ]
  },
  {
   "cell_type": "markdown",
   "metadata": {},
   "source": [
    "Get some basic information from the file like the version number, number of kpoints (twists), atomic positions, primitive lattice, etc."
   ]
  },
  {
   "cell_type": "code",
   "execution_count": 346,
   "metadata": {
    "collapsed": false
   },
   "outputs": [
    {
     "name": "stdout",
     "output_type": "stream",
     "text": [
      "version =  [4 0 4]\n",
      "number of kpoints =  1\n",
      "number of electrons =  1\n"
     ]
    }
   ],
   "source": [
    "version = f.get('application/version')\n",
    "print 'version = ',version[:]\n",
    "number_of_kpoints = f.get('electrons/number_of_kpoints')\n",
    "print 'number of kpoints = ',number_of_kpoints[0]\n",
    "number_of_electrons = f.get('electrons/number_of_electrons')\n",
    "print 'number of electrons = ',number_of_electrons[0]"
   ]
  },
  {
   "cell_type": "code",
   "execution_count": 347,
   "metadata": {
    "collapsed": false
   },
   "outputs": [
    {
     "name": "stdout",
     "output_type": "stream",
     "text": [
      "[[ 0.          0.          0.        ]\n",
      " [ 1.88972613  1.88972613  1.88972614]]\n"
     ]
    }
   ],
   "source": [
    "atom_pos = f.get('atoms/positions')\n",
    "print atom_pos[:]"
   ]
  },
  {
   "cell_type": "code",
   "execution_count": 348,
   "metadata": {
    "collapsed": false
   },
   "outputs": [
    {
     "name": "stdout",
     "output_type": "stream",
     "text": [
      "[[ 3.77945227  0.          0.        ]\n",
      " [ 0.          3.77945227  0.        ]\n",
      " [ 0.          0.          3.77945227]]\n"
     ]
    }
   ],
   "source": [
    "prim_vectors = f.get('supercell/primitive_vectors')\n",
    "print prim_vectors[:]"
   ]
  },
  {
   "cell_type": "code",
   "execution_count": 349,
   "metadata": {
    "collapsed": true
   },
   "outputs": [],
   "source": [
    "# Reciprocal lattice vectors\n",
    "def get_kspace_basis(basis):\n",
    "    # Volume factor for reciprocal lattice\n",
    "    a1, a2, a3 = basis\n",
    "    vol = a1.dot(np.cross(a2, a3))\n",
    "\n",
    "    pre = 2*math.pi\n",
    "    #pre = 1.0\n",
    "    b1 = pre*np.cross(a2, a3)/vol\n",
    "    b2 = pre*np.cross(a3, a1)/vol\n",
    "    b3 = pre*np.cross(a1, a2)/vol\n",
    "    return [b1, b2, b3]\n"
   ]
  },
  {
   "cell_type": "code",
   "execution_count": 350,
   "metadata": {
    "collapsed": false
   },
   "outputs": [
    {
     "name": "stdout",
     "output_type": "stream",
     "text": [
      "[array([ 1.66245923,  0.        ,  0.        ]), array([ 0.        ,  1.66245923,  0.        ]), array([ 0.        ,  0.        ,  1.66245923])]\n"
     ]
    }
   ],
   "source": [
    "kbasis = get_kspace_basis(prim_vectors)\n",
    "print kbasis"
   ]
  },
  {
   "cell_type": "markdown",
   "metadata": {},
   "source": [
    "### Information about first kpoint"
   ]
  },
  {
   "cell_type": "code",
   "execution_count": 351,
   "metadata": {
    "collapsed": false
   },
   "outputs": [
    {
     "name": "stdout",
     "output_type": "stream",
     "text": [
      "[ 0.  0.  0.]\n"
     ]
    }
   ],
   "source": [
    "kpoint = f.get('electrons/kpoint_0/reduced_k')\n",
    "print kpoint[:]"
   ]
  },
  {
   "cell_type": "code",
   "execution_count": 352,
   "metadata": {
    "collapsed": false
   },
   "outputs": [
    {
     "name": "stdout",
     "output_type": "stream",
     "text": [
      "[[ 0  0  0]\n",
      " [-1  0  0]\n",
      " [ 0 -1  0]\n",
      " [ 0  0 -1]\n",
      " [ 0  0  1]\n",
      " [ 0  1  0]\n",
      " [ 1  0  0]\n",
      " [-1 -1  0]\n",
      " [-1  0 -1]\n",
      " [-1  0  1]]\n"
     ]
    }
   ],
   "source": [
    "gvectors = f.get('electrons/kpoint_0/gvectors')\n",
    "print gvectors[0:10,:]"
   ]
  },
  {
   "cell_type": "code",
   "execution_count": 353,
   "metadata": {
    "collapsed": false
   },
   "outputs": [
    {
     "name": "stdout",
     "output_type": "stream",
     "text": [
      "(10131, 2)\n",
      "[[ -5.45537362e-01  -8.22710028e-01]\n",
      " [  2.19636552e-07   2.54362828e-07]\n",
      " [ -2.34132028e-07  -2.70735662e-07]\n",
      " [  6.41080905e-09  -4.31852687e-08]\n",
      " [  9.13308207e-09   2.14367402e-08]\n",
      " [ -1.52422857e-07  -3.40232563e-07]\n",
      " [  1.99970200e-07   3.42144939e-07]\n",
      " [ -2.40488969e-02  -3.62677643e-02]\n",
      " [ -2.40484681e-02  -3.62683106e-02]\n",
      " [ -2.40485568e-02  -3.62684510e-02]]\n"
     ]
    }
   ],
   "source": [
    "pw_coeffs = f.get('electrons/kpoint_0/spin_0/state_0/psi_g')\n",
    "print pw_coeffs.shape\n",
    "print pw_coeffs[0:10,:]"
   ]
  },
  {
   "cell_type": "code",
   "execution_count": 354,
   "metadata": {
    "collapsed": false
   },
   "outputs": [],
   "source": [
    "# Compute the orbital value at one point in real-space \n",
    "def compute_psi(gvectors, kbasis, coeff, twist, r):\n",
    "    kp = kbasis[0]*twist[0] + kbasis[1]*twist[1] + kbasis[2]*twist[2]\n",
    "    total_r = 0.0\n",
    "    total_i = 0.0\n",
    "    for idx in range(len(gvectors)):\n",
    "        G = gvectors[idx]\n",
    "        c = coeff[idx]\n",
    "        q = kbasis[0]*G[0] + kbasis[1]*G[1] + kbasis[2]*G[2] + kp\n",
    "        qr = np.dot(q,r)\n",
    "        cosqr = math.cos(qr)\n",
    "        sinqr = math.sin(qr)\n",
    "        total_r += c[0] * cosqr - c[1] * sinqr\n",
    "        total_i += c[0] * sinqr + c[1] * cosqr\n",
    "    #print 'total = ',total_r, total_i\n",
    "    return complex(total_r, total_i)\n",
    "        "
   ]
  },
  {
   "cell_type": "code",
   "execution_count": 355,
   "metadata": {
    "collapsed": false
   },
   "outputs": [
    {
     "data": {
      "text/plain": [
       "(-1.2473558997965475-1.8810989347639937j)"
      ]
     },
     "execution_count": 355,
     "metadata": {},
     "output_type": "execute_result"
    }
   ],
   "source": [
    "# Test it out at one point.\n",
    "r = np.array([0.0, 0.0, 0.0])\n",
    "compute_psi(gvectors, kbasis, pw_coeffs, kpoint, r)"
   ]
  },
  {
   "cell_type": "code",
   "execution_count": 356,
   "metadata": {
    "collapsed": false,
    "scrolled": true
   },
   "outputs": [
    {
     "name": "stdout",
     "output_type": "stream",
     "text": [
      "0.0 (-1.2473558998-1.88109893476j)\n",
      "0.377945227 (-0.929597357312-1.40190833677j)\n",
      "0.755890454 (-0.696384092802-1.05020325398j)\n",
      "1.133835681 (-0.565502765705-0.852821080807j)\n",
      "1.511780908 (-0.50068864386-0.755074644961j)\n",
      "1.889726135 (-0.481108761722-0.725544232838j)\n",
      "2.267671362 (-0.500689298486-0.755069711751j)\n",
      "2.645616589 (-0.565504903026-0.852813337015j)\n",
      "3.023561816 (-0.696387605983-1.05019442729j)\n",
      "3.401507043 (-0.929604497255-1.40190243987j)\n",
      "3.77945227 (-1.2473558998-1.88109893476j)\n"
     ]
    }
   ],
   "source": [
    "# Compute a range of values\n",
    "psi_vals = []\n",
    "rvals = []\n",
    "nstep = 10\n",
    "cell_width = prim_vectors[0,0]\n",
    "step = cell_width/nstep\n",
    "for i in range(nstep+1):\n",
    "    r1 = step*i\n",
    "    rvals.append(r1)\n",
    "    r = np.array([r1, 0.0, 0.0])\n",
    "    pv = compute_psi(gvectors, kbasis, pw_coeffs, kpoint, r)\n",
    "    print r1, pv\n",
    "    psi_vals.append(pv)\n",
    "    "
   ]
  },
  {
   "cell_type": "code",
   "execution_count": 376,
   "metadata": {
    "collapsed": false
   },
   "outputs": [
    {
     "data": {
      "text/plain": [
       "[<matplotlib.lines.Line2D at 0x7fb2a005b790>]"
      ]
     },
     "execution_count": 376,
     "metadata": {},
     "output_type": "execute_result"
    },
    {
     "data": {
      "image/png": "[encoded data removed]",
      "text/plain": [
       "<matplotlib.figure.Figure at 0x7fb2a0517fd0>"
      ]
     },
     "metadata": {},
     "output_type": "display_data"
    }
   ],
   "source": [
    "plt.plot(rvals, [p.real for p in psi_vals])"
   ]
  },
  {
   "cell_type": "markdown",
   "metadata": {},
   "source": [
    "### Conversion to splines\n",
    "Use FFT to convert to a grid in real-space"
   ]
  },
  {
   "cell_type": "code",
   "execution_count": 365,
   "metadata": {
    "collapsed": false
   },
   "outputs": [
    {
     "name": "stdout",
     "output_type": "stream",
     "text": [
      "Maximum G =  [ 13.  13.  13.]\n",
      "mesh size =  [52 52 52]\n"
     ]
    }
   ],
   "source": [
    "# Find the mesh size\n",
    "# See EinsplineSetBuilder::ReadGvectors_ESHDF in QMCWavefunctions/EinsplineSetBuilderReadBands_ESHDF.cpp\n",
    "#  Mesh sizes taken from QMCPACK output.\n",
    "# BCC H\n",
    "#meshsize = (52, 52, 52)\n",
    "# LiH\n",
    "#meshsize = (68, 68, 68)\n",
    "MeshFactor = 1.0\n",
    "\n",
    "max_g = np.zeros(3)\n",
    "for g in gvectors:\n",
    "    max_g = np.maximum(max_g, np.abs(g))\n",
    "    \n",
    "print 'Maximum G = ',max_g\n",
    "meshsize = np.ceil(4*max_g*MeshFactor).astype(np.int)\n",
    "print 'mesh size = ',meshsize\n",
    "\n",
    "# Plus some more code for mesh sizes larger than 128 than restricts\n",
    "# sizes to certain allowed values (more efficient FFT?)"
   ]
  },
  {
   "cell_type": "code",
   "execution_count": 367,
   "metadata": {
    "collapsed": false
   },
   "outputs": [],
   "source": [
    "# Place points in the box at the right G-vector\n",
    "# see unpack4fftw in QMCWavefunctions/einspline_helper.h\n",
    "\n",
    "fftbox = np.zeros(meshsize, dtype=np.complex_)\n",
    "for c, g in zip(pw_coeffs, gvectors):\n",
    "    idxs = [(g[i] + meshsize[i])%meshsize[i] for i in range(3)]\n",
    "    fftbox[idxs[0], idxs[1], idxs[2]] = complex(c[0], c[1])"
   ]
  },
  {
   "cell_type": "code",
   "execution_count": 368,
   "metadata": {
    "collapsed": false
   },
   "outputs": [],
   "source": [
    "realbox = scipy.fftpack.fftn(fftbox)"
   ]
  },
  {
   "cell_type": "code",
   "execution_count": 369,
   "metadata": {
    "collapsed": false
   },
   "outputs": [
    {
     "data": {
      "text/plain": [
       "array([-1.2473559 , -1.22008295, -1.15236579, -1.07309496, -1.00191792,\n",
       "       -0.94101435, -0.88549114, -0.83388847, -0.78771675, -0.74697517,\n",
       "       -0.71017254, -0.67678414, -0.64716998, -0.62103659, -0.5976146 ,\n",
       "       -0.57672851, -0.55855773, -0.54281754, -0.52901007, -0.5170925 ,\n",
       "       -0.50723304, -0.49920761, -0.49258584, -0.48731555, -0.48366931,\n",
       "       -0.48169915, -0.48110876, -0.481699  , -0.48366907, -0.48731526,\n",
       "       -0.49258544, -0.499207  , -0.50723218, -0.51709136, -0.52900861,\n",
       "       -0.54281573, -0.55855566, -0.5767263 , -0.59761229, -0.6210341 ,\n",
       "       -0.64716718, -0.67678092, -0.71016881, -0.7469708 , -0.78771159,\n",
       "       -0.83388244, -0.88548438, -0.94100715, -1.00191067, -1.07308822,\n",
       "       -1.15236039, -1.22007989])"
      ]
     },
     "execution_count": 369,
     "metadata": {},
     "output_type": "execute_result"
    }
   ],
   "source": [
    "fftvals = np.array([a.real for a in realbox[0:meshsize[0],0,0]])\n",
    "fftvals"
   ]
  },
  {
   "cell_type": "code",
   "execution_count": 371,
   "metadata": {
    "collapsed": false
   },
   "outputs": [],
   "source": [
    "xstep = prim_vectors[0][0]/meshsize[0]\n",
    "xvals = [xstep * i for i in range(meshsize[0])]"
   ]
  },
  {
   "cell_type": "code",
   "execution_count": 372,
   "metadata": {
    "collapsed": false
   },
   "outputs": [
    {
     "data": {
      "text/plain": [
       "<matplotlib.legend.Legend at 0x7fb2a0581050>"
      ]
     },
     "execution_count": 372,
     "metadata": {},
     "output_type": "execute_result"
    },
    {
     "data": {
      "image/png": "[encoded data removed]",
      "text/plain": [
       "<matplotlib.figure.Figure at 0x7fb2a00edf10>"
      ]
     },
     "metadata": {},
     "output_type": "display_data"
    }
   ],
   "source": [
    "# Compare results of FFT and the compute_psi function\n",
    "# They don't line up completely because they are on different real-space grids\n",
    "line1 = plt.plot(rvals, [p.real for p in psi_vals], label=\"compute_psi\")\n",
    "line2 = plt.plot(xvals, fftvals, label=\"FFT\")\n",
    "plt.legend()"
   ]
  },
  {
   "cell_type": "markdown",
   "metadata": {},
   "source": [
    "### Further processing\n",
    "For the conversion to splines, there is a further orbital rotation that keeps the overall real and imaginary parts away from zero (why?).\n",
    "Also the twist (kpoint) factor of $\\exp(ikr)$ is applied.\n",
    "\n",
    "See fix_phase_rotate_c2r in QMCWavefunctions/einspline_helper.h"
   ]
  },
  {
   "cell_type": "code",
   "execution_count": 373,
   "metadata": {
    "collapsed": false
   },
   "outputs": [
    {
     "name": "stdout",
     "output_type": "stream",
     "text": [
      "real norm, imaginary norm 42943.1323961 97664.8676039\n",
      "angle (degrees) 66.2649618713\n"
     ]
    }
   ],
   "source": [
    "realbox_kr = np.empty_like(realbox)\n",
    "for ix in range(meshsize[0]):\n",
    "    for iy in range(meshsize[1]):\n",
    "        for iz in range(meshsize[2]):\n",
    "            tx = kpoint[0]*ix/meshsize[0]\n",
    "            ty = kpoint[1]*iy/meshsize[1]\n",
    "            tz = kpoint[2]*iz/meshsize[2]\n",
    "            tt = -2*np.pi*(tx+ty+tz)\n",
    "            cos_tt = math.cos(tt)\n",
    "            sin_tt = math.sin(tt)\n",
    "            r = realbox[ix, iy, iz]\n",
    "            realbox_kr[ix,iy,iz] = r*complex(cos_tt, sin_tt)\n",
    "rNorm = 0.0\n",
    "iNorm = 0.0\n",
    "ii = 0\n",
    "for val in np.nditer(realbox_kr):\n",
    "#for val in psi_vals:\n",
    "    rNorm += val.real*val.real\n",
    "    iNorm += val.imag*val.imag\n",
    "    ii += 1\n",
    "print 'real norm, imaginary norm',rNorm,iNorm\n",
    "arg = math.atan2(iNorm, rNorm)\n",
    "print 'angle (degrees)',math.degrees(arg)\n",
    "ang = np.pi/8 - 0.5*arg\n",
    "sin_ang = math.sin(ang)\n",
    "cos_ang = math.cos(ang)\n",
    "rot_psi_vals = []\n",
    "for val in psi_vals:\n",
    "    rot = val.real*cos_ang - val.imag*sin_ang\n",
    "    rot_psi_vals.append(rot)"
   ]
  },
  {
   "cell_type": "code",
   "execution_count": 374,
   "metadata": {
    "collapsed": false
   },
   "outputs": [
    {
     "data": {
      "text/plain": [
       "[-1.5730187632542054,\n",
       " -1.1723010853354936,\n",
       " -0.8781992869387913,\n",
       " -0.713146375364895,\n",
       " -0.6314100002655509,\n",
       " -0.6067176734849947,\n",
       " -0.631409733432758,\n",
       " -0.7131470471948752,\n",
       " -0.8782011112010332,\n",
       " -1.1723070146627808,\n",
       " -1.5730187632542059]"
      ]
     },
     "execution_count": 374,
     "metadata": {},
     "output_type": "execute_result"
    }
   ],
   "source": [
    "# These values should be comparable to the output of the spline orbitals\n",
    "rot_psi_vals"
   ]
  },
  {
   "cell_type": "code",
   "execution_count": 375,
   "metadata": {
    "collapsed": false
   },
   "outputs": [
    {
     "data": {
      "text/plain": [
       "[-1.573018763254205,\n",
       " -1.538624806835367,\n",
       " -1.4532275897161404,\n",
       " -1.3532604157255745,\n",
       " -1.2635002485303946,\n",
       " -1.186695787894654,\n",
       " -1.1166764197945607,\n",
       " -1.051601183814924,\n",
       " -0.99337482620619033,\n",
       " -0.94199628223062204]"
      ]
     },
     "execution_count": 375,
     "metadata": {},
     "output_type": "execute_result"
    }
   ],
   "source": [
    "# These are on a different grid than the values above\n",
    "fft_rot_vals = []\n",
    "for val in realbox_kr[:,0,0]:\n",
    "    rot = val.real*cos_ang - val.imag*sin_ang\n",
    "    fft_rot_vals.append(rot)\n",
    "fft_rot_vals[0:10]"
   ]
  },
  {
   "cell_type": "code",
   "execution_count": null,
   "metadata": {
    "collapsed": true
   },
   "outputs": [],
   "source": []
  }
 ],
 "metadata": {
  "kernelspec": {
   "display_name": "Python 2",
   "language": "python",
   "name": "python2"
  },
  "language_info": {
   "codemirror_mode": {
    "name": "ipython",
    "version": 2
   },
   "file_extension": ".py",
   "mimetype": "text/x-python",
   "name": "python",
   "nbconvert_exporter": "python",
   "pygments_lexer": "ipython2",
   "version": "2.7.12"
  }
 },
 "nbformat": 4,
 "nbformat_minor": 0
}
